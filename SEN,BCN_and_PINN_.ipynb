{
  "nbformat": 4,
  "nbformat_minor": 0,
  "metadata": {
    "colab": {
      "provenance": [],
      "gpuType": "T4",
      "include_colab_link": true
    },
    "kernelspec": {
      "name": "python3",
      "display_name": "Python 3"
    },
    "language_info": {
      "name": "python"
    },
    "accelerator": "GPU"
  },
  "cells": [
    {
      "cell_type": "markdown",
      "metadata": {
        "id": "view-in-github",
        "colab_type": "text"
      },
      "source": [
        "<a href=\"https://colab.research.google.com/github/JAPETHj/ARVR_project/blob/main/SEN%2CBCN_and_PINN_.ipynb\" target=\"_parent\"><img src=\"https://colab.research.google.com/assets/colab-badge.svg\" alt=\"Open In Colab\"/></a>"
      ]
    },
    {
      "cell_type": "code",
      "source": [
        "# prompt: enc_boundary is a 60 lenght numpy array. add 60 columns to combined_df and add these 60 values in each column\n",
        "\n",
        "import numpy as np\n",
        "\n",
        "for i in range(60):\n",
        "  combined_df[\"enc_boundary_\" + str(i)] = encoded_boundary[i]\n",
        "\n",
        "print(combined_df)"
      ],
      "metadata": {
        "colab": {
          "base_uri": "https://localhost:8080/"
        },
        "id": "8w9R9MPToKMm",
        "outputId": "7ccb7295-7d1e-4a0d-d6c1-32e89a8cdab2"
      },
      "execution_count": null,
      "outputs": [
        {
          "output_type": "stream",
          "name": "stdout",
          "text": [
            "0           x-coordinate      y-coordinate   total-pressure       x-velocity  \\\n",
            "0       -1.000000000E+01  -1.000000000E+01  6.401010156E-01  1.000000000E+00   \n",
            "1       -8.180340767E+00  -1.000000000E+01  6.400718093E-01  1.000665069E+00   \n",
            "2       -6.387341022E+00  -1.000000000E+01  6.398889422E-01  1.002148628E+00   \n",
            "3       -4.696190357E+00  -1.000000000E+01  6.392056942E-01  1.004284620E+00   \n",
            "4       -3.125059366E+00  -1.000000000E+01  6.375854611E-01  1.005931973E+00   \n",
            "...                  ...               ...              ...              ...   \n",
            "354635   8.924691200E+00   1.000000000E+01  6.242436171E-01  1.012355208E+00   \n",
            "354636   1.043871403E+01   1.000000000E+01  6.220536828E-01  1.009628892E+00   \n",
            "354637   1.195575809E+01   1.000000000E+01  6.198765635E-01  1.007151246E+00   \n",
            "354638   1.347588158E+01   1.000000000E+01  6.180498004E-01  1.005093098E+00   \n",
            "354639   1.500000000E+01   1.000000000E+01  6.165777445E-01  1.004240870E+00   \n",
            "\n",
            "0            y-velocity   t  enc_boundary_0  enc_boundary_1  enc_boundary_2  \\\n",
            "0       0.000000000E+00   1       -0.219378        0.557131       -0.331021   \n",
            "1       0.000000000E+00   1       -0.219378        0.557131       -0.331021   \n",
            "2       0.000000000E+00   1       -0.219378        0.557131       -0.331021   \n",
            "3       0.000000000E+00   1       -0.219378        0.557131       -0.331021   \n",
            "4       0.000000000E+00   1       -0.219378        0.557131       -0.331021   \n",
            "...                 ...  ..             ...             ...             ...   \n",
            "354635  0.000000000E+00  20       -0.219378        0.557131       -0.331021   \n",
            "354636  0.000000000E+00  20       -0.219378        0.557131       -0.331021   \n",
            "354637  0.000000000E+00  20       -0.219378        0.557131       -0.331021   \n",
            "354638  0.000000000E+00  20       -0.219378        0.557131       -0.331021   \n",
            "354639  0.000000000E+00  20       -0.219378        0.557131       -0.331021   \n",
            "\n",
            "0       enc_boundary_3  ...  enc_boundary_50  enc_boundary_51  \\\n",
            "0             0.058273  ...         0.562464        -0.127525   \n",
            "1             0.058273  ...         0.562464        -0.127525   \n",
            "2             0.058273  ...         0.562464        -0.127525   \n",
            "3             0.058273  ...         0.562464        -0.127525   \n",
            "4             0.058273  ...         0.562464        -0.127525   \n",
            "...                ...  ...              ...              ...   \n",
            "354635        0.058273  ...         0.562464        -0.127525   \n",
            "354636        0.058273  ...         0.562464        -0.127525   \n",
            "354637        0.058273  ...         0.562464        -0.127525   \n",
            "354638        0.058273  ...         0.562464        -0.127525   \n",
            "354639        0.058273  ...         0.562464        -0.127525   \n",
            "\n",
            "0       enc_boundary_52  enc_boundary_53  enc_boundary_54  enc_boundary_55  \\\n",
            "0             -1.194965         -0.87007         0.726857        -0.096534   \n",
            "1             -1.194965         -0.87007         0.726857        -0.096534   \n",
            "2             -1.194965         -0.87007         0.726857        -0.096534   \n",
            "3             -1.194965         -0.87007         0.726857        -0.096534   \n",
            "4             -1.194965         -0.87007         0.726857        -0.096534   \n",
            "...                 ...              ...              ...              ...   \n",
            "354635        -1.194965         -0.87007         0.726857        -0.096534   \n",
            "354636        -1.194965         -0.87007         0.726857        -0.096534   \n",
            "354637        -1.194965         -0.87007         0.726857        -0.096534   \n",
            "354638        -1.194965         -0.87007         0.726857        -0.096534   \n",
            "354639        -1.194965         -0.87007         0.726857        -0.096534   \n",
            "\n",
            "0       enc_boundary_56  enc_boundary_57  enc_boundary_58  enc_boundary_59  \n",
            "0             -0.674249         0.209006          1.42026         0.698556  \n",
            "1             -0.674249         0.209006          1.42026         0.698556  \n",
            "2             -0.674249         0.209006          1.42026         0.698556  \n",
            "3             -0.674249         0.209006          1.42026         0.698556  \n",
            "4             -0.674249         0.209006          1.42026         0.698556  \n",
            "...                 ...              ...              ...              ...  \n",
            "354635        -0.674249         0.209006          1.42026         0.698556  \n",
            "354636        -0.674249         0.209006          1.42026         0.698556  \n",
            "354637        -0.674249         0.209006          1.42026         0.698556  \n",
            "354638        -0.674249         0.209006          1.42026         0.698556  \n",
            "354639        -0.674249         0.209006          1.42026         0.698556  \n",
            "\n",
            "[354640 rows x 66 columns]\n"
          ]
        }
      ]
    },
    {
      "cell_type": "code",
      "source": [
        "# prompt: drop first and last 2 columns of df\n",
        "\n",
        "combined_df = combined_df.iloc[:, 1:-2]\n",
        "print(combined_df)\n"
      ],
      "metadata": {
        "colab": {
          "base_uri": "https://localhost:8080/"
        },
        "id": "N6WRh3jIk-f4",
        "outputId": "ff2df95d-6865-4e37-f425-09915781737f"
      },
      "execution_count": null,
      "outputs": [
        {
          "output_type": "stream",
          "name": "stdout",
          "text": [
            "0           x-coordinate      y-coordinate   total-pressure       x-velocity  \\\n",
            "0       -1.000000000E+01  -1.000000000E+01  6.401010156E-01  1.000000000E+00   \n",
            "1       -8.180340767E+00  -1.000000000E+01  6.400718093E-01  1.000665069E+00   \n",
            "2       -6.387341022E+00  -1.000000000E+01  6.398889422E-01  1.002148628E+00   \n",
            "3       -4.696190357E+00  -1.000000000E+01  6.392056942E-01  1.004284620E+00   \n",
            "4       -3.125059366E+00  -1.000000000E+01  6.375854611E-01  1.005931973E+00   \n",
            "...                  ...               ...              ...              ...   \n",
            "354635   8.924691200E+00   1.000000000E+01  6.242436171E-01  1.012355208E+00   \n",
            "354636   1.043871403E+01   1.000000000E+01  6.220536828E-01  1.009628892E+00   \n",
            "354637   1.195575809E+01   1.000000000E+01  6.198765635E-01  1.007151246E+00   \n",
            "354638   1.347588158E+01   1.000000000E+01  6.180498004E-01  1.005093098E+00   \n",
            "354639   1.500000000E+01   1.000000000E+01  6.165777445E-01  1.004240870E+00   \n",
            "\n",
            "0            y-velocity  \n",
            "0       0.000000000E+00  \n",
            "1       0.000000000E+00  \n",
            "2       0.000000000E+00  \n",
            "3       0.000000000E+00  \n",
            "4       0.000000000E+00  \n",
            "...                 ...  \n",
            "354635  0.000000000E+00  \n",
            "354636  0.000000000E+00  \n",
            "354637  0.000000000E+00  \n",
            "354638  0.000000000E+00  \n",
            "354639  0.000000000E+00  \n",
            "\n",
            "[354640 rows x 5 columns]\n"
          ]
        }
      ]
    },
    {
      "cell_type": "code",
      "source": [
        "# prompt: create a code to make a dataframe by appending all the dataframes in the folder data_points\n",
        "\n",
        "import pandas as pd\n",
        "import os\n",
        "\n",
        "data_frames = []\n",
        "\n",
        "# Get the list of files in the data_points folder\n",
        "files = os.listdir('/content/data_points')\n",
        "\n",
        "# Iterate through each file in the folder\n",
        "for file in files:\n",
        "  # Read the CSV file into a DataFrame\n",
        "  df = pd.read_csv(os.path.join('data_points', file), sep='\\s+', header=None, decimal='.')\n",
        "  df.columns = df.iloc[0]\n",
        "  df = df.iloc[1:]\n",
        "  #df = pd.read_csv(os.path.join('data_points', file))\n",
        "\n",
        "  # Append the DataFrame to the list\n",
        "  data_frames.append(df)\n",
        "\n",
        "# Concatenate all the DataFrames in the list into a single DataFrame\n",
        "combined_df = pd.concat(data_frames,ignore_index=True)\n"
      ],
      "metadata": {
        "id": "cR-1LbQNkUoN"
      },
      "execution_count": null,
      "outputs": []
    },
    {
      "cell_type": "code",
      "source": [
        "'''def vae_loss(inputs, reconstructed, mean, log_var):\n",
        "    #recon_loss = chamfer_distance(inputs.numpy(), reconstructed.numpy())\n",
        "    recon_loss = tf.reduce_mean(tf.reduce_sum(tf.keras.losses.mean_squared_error(inputs, reconstructed), axis=-1))\n",
        "    kl_loss = -0.5 * tf.reduce_mean(1 + log_var - tf.square(mean) - tf.exp(log_var))\n",
        "    return recon_loss + kl_loss'''"
      ],
      "metadata": {
        "id": "0R3dhSFZtGdI"
      },
      "execution_count": null,
      "outputs": []
    },
    {
      "cell_type": "code",
      "source": [
        "'''import numpy as np\n",
        "from scipy.spatial import KDTree\n",
        "\n",
        "def chamfer_distance(A, B):\n",
        "    \"\"\"\n",
        "    Computes the chamfer distance between two sets of points A and B.\n",
        "    \"\"\"\n",
        "    tree = KDTree(B)\n",
        "    dist_A = tree.query(A)[0]\n",
        "    tree = KDTree(A)\n",
        "    dist_B = tree.query(B)[0]\n",
        "    return np.mean(dist_A) + np.mean(dist_B)'''"
      ],
      "metadata": {
        "id": "rnXSXbDs2y5k"
      },
      "execution_count": null,
      "outputs": []
    },
    {
      "cell_type": "code",
      "source": [
        "'''import tensorflow_graphics.nn.loss as tfg_loss\n",
        "def vae_loss(inputs, reconstructed, mean, log_var):\n",
        "    # Use TensorFlow Graphics for differentiable Chamfer distance\n",
        "    inputs = tf.cast(inputs, tf.float64)\n",
        "    reconstructed = tf.cast(reconstructed, tf.float64)\n",
        "    recon_loss = tfg_loss.chamfer_distance.evaluate(inputs, reconstructed)\n",
        "    kl_loss = -0.5 * tf.reduce_mean(1 + log_var - tf.square(mean) - tf.exp(log_var))\n",
        "    return recon_loss + tf.cast(tf.reduce_sum(kl_loss), tf.float64)\n",
        "def train_vae(model, X_train, optimizer, epochs, batch_size):\n",
        "    for epoch in range(epochs):\n",
        "        epoch_loss = 0\n",
        "        for batch in range(0, len(X_train), batch_size):\n",
        "            x_batch = X_train[batch:batch + batch_size]\n",
        "            with tf.GradientTape() as tape:\n",
        "                reconstructed, mean, log_var = model(x_batch)\n",
        "                loss = vae_loss(x_batch, reconstructed, mean, log_var)\n",
        "            gradients = tape.gradient(loss, model.trainable_variables)\n",
        "            optimizer.apply_gradients(zip(gradients, model.trainable_variables))\n",
        "            epoch_loss += loss\n",
        "        print(f'Epoch [{epoch + 1}/{epochs}], Loss: {epoch_loss.numpy() / len(X_train)}')\n",
        "optimizer = tf.keras.optimizers.Adam()\n",
        "train_vae(vae, X_train, optimizer, epochs=50, batch_size=32)'''"
      ],
      "metadata": {
        "id": "RnNKuGFysotE",
        "collapsed": true
      },
      "execution_count": null,
      "outputs": []
    },
    {
      "cell_type": "code",
      "source": [
        "'''input_data = tf.expand_dims(X_train[0], axis=0)\n",
        "encoded_version = vae.encoder(input_data)\n",
        "decoded_version = vae.decoder(encoded_version[0])\n",
        "print(X_train[0][0:5])\n",
        "print(\"Decoded version:\", decoded_version[0][0:5])'''"
      ],
      "metadata": {
        "id": "3xB41w9e89oC",
        "collapsed": true
      },
      "execution_count": null,
      "outputs": []
    },
    {
      "cell_type": "code",
      "source": [
        "print(combined_df)"
      ],
      "metadata": {
        "colab": {
          "base_uri": "https://localhost:8080/"
        },
        "id": "GK01wW-0pMiG",
        "outputId": "20793d02-b497-4db7-ef03-6597a0ed40e1"
      },
      "execution_count": null,
      "outputs": [
        {
          "output_type": "stream",
          "name": "stdout",
          "text": [
            "0      nodenumber      x-coordinate      y-coordinate   total-pressure  \\\n",
            "0               1  -1.000000000E+01  -1.000000000E+01  6.401010156E-01   \n",
            "1               2  -8.180340767E+00  -1.000000000E+01  6.400718093E-01   \n",
            "2               3  -6.387341022E+00  -1.000000000E+01  6.398889422E-01   \n",
            "3               4  -4.696190357E+00  -1.000000000E+01  6.392056942E-01   \n",
            "4               5  -3.125059366E+00  -1.000000000E+01  6.375854611E-01   \n",
            "...           ...               ...               ...              ...   \n",
            "354635      17728   8.924691200E+00   1.000000000E+01  6.242436171E-01   \n",
            "354636      17729   1.043871403E+01   1.000000000E+01  6.220536828E-01   \n",
            "354637      17730   1.195575809E+01   1.000000000E+01  6.198765635E-01   \n",
            "354638      17731   1.347588158E+01   1.000000000E+01  6.180498004E-01   \n",
            "354639      17732   1.500000000E+01   1.000000000E+01  6.165777445E-01   \n",
            "\n",
            "0            x-velocity       y-velocity      x-coordinate      y-coordinate  \n",
            "0       1.000000000E+00  0.000000000E+00  -1.000000000E+01  -1.000000000E+01  \n",
            "1       1.000665069E+00  0.000000000E+00  -8.180340767E+00  -1.000000000E+01  \n",
            "2       1.002148628E+00  0.000000000E+00  -6.387341022E+00  -1.000000000E+01  \n",
            "3       1.004284620E+00  0.000000000E+00  -4.696190357E+00  -1.000000000E+01  \n",
            "4       1.005931973E+00  0.000000000E+00  -3.125059366E+00  -1.000000000E+01  \n",
            "...                 ...              ...               ...               ...  \n",
            "354635  1.012355208E+00  0.000000000E+00   8.924691200E+00   1.000000000E+01  \n",
            "354636  1.009628892E+00  0.000000000E+00   1.043871403E+01   1.000000000E+01  \n",
            "354637  1.007151246E+00  0.000000000E+00   1.195575809E+01   1.000000000E+01  \n",
            "354638  1.005093098E+00  0.000000000E+00   1.347588158E+01   1.000000000E+01  \n",
            "354639  1.004240870E+00  0.000000000E+00   1.500000000E+01   1.000000000E+01  \n",
            "\n",
            "[354640 rows x 8 columns]\n"
          ]
        }
      ]
    },
    {
      "cell_type": "code",
      "source": [
        "# prompt: create a new column t having 1 repeted 17732 times,2 repeated 17732 times...20 repeted 17732 times\n",
        "\n",
        "new_column_values = []\n",
        "for i in range(1, 21):\n",
        "    new_column_values.extend([i] * 17732)\n",
        "combined_df['t'] = new_column_values\n"
      ],
      "metadata": {
        "id": "yB12yzBgrIcW"
      },
      "execution_count": null,
      "outputs": []
    },
    {
      "cell_type": "code",
      "source": [
        "# prompt: change names of  first 6 columns to x,y,p,u,v,t\n",
        "\n",
        "combined_df.columns = ['x', 'y', 'p', 'u', 'v', 't'] + list(combined_df.columns)[6:]\n"
      ],
      "metadata": {
        "id": "Gfi4qLC6pb9Z"
      },
      "execution_count": null,
      "outputs": []
    },
    {
      "cell_type": "code",
      "source": [
        "!pip install -q tensorflow_graphics #//////////\\\\\\\\\\\\\\\\\\\\\\You need to install this first time if in jupyter else install every time in colab///////////\\\\\\\\\\\\\\\\\\\\\\\\"
      ],
      "metadata": {
        "id": "App7wkzJ3miS"
      },
      "execution_count": null,
      "outputs": []
    },
    {
      "cell_type": "code",
      "source": [
        "'''\n",
        "Dataset creation for BCN and SEN\n",
        "'''\n",
        "#For BCN we have created a dataframe of distances of x,y,distance with random numbers\n",
        "df = pd.DataFrame({\n",
        "    'x': np.random.rand(20*1000).astype(np.float32),\n",
        "    'y': np.random.rand(20*1000).astype(np.float32),\n",
        "    'distance': np.random.rand(20*1000).astype(np.float32)\n",
        "})\n",
        "l=[]\n",
        "new_df = pd.DataFrame(columns=['x,y'])\n",
        "#print(df)\n",
        "for i in range(20):\n",
        "    zero_indices = np.random.choice(range(i*1000, (i+1)*1000), 400, replace=False)\n",
        "    df.loc[zero_indices, 'distance'] = 0#Here I have made some distances 0 so as to resemble boundary points\n",
        "for i in range(20):\n",
        "   #print(np_array)\n",
        "   for j in range(1000):\n",
        "     if df[\"distance\"].iloc[i * 1000 + j]==0:\n",
        "      l.append([df[\"x\"].iloc[i * 1000 + j],df[\"y\"].iloc[i * 1000 + j]])\n",
        "     else:\n",
        "      continue\n",
        "   new_df.loc[i]=[np.array(l)]\n",
        "   l=[]\n",
        "print(df)\n",
        "print(new_df)\n",
        "data=df[[\"x\",\"y\"]]\n",
        "labels=df[\"distance\"]\n",
        "data=tf.convert_to_tensor(data)#Converting data to tensor\n",
        "labels=tf.convert_to_tensor(labels)#Converting the labels to tensor"
      ],
      "metadata": {
        "id": "1FgtcLqgS6nk",
        "colab": {
          "base_uri": "https://localhost:8080/"
        },
        "outputId": "e26e20b8-4154-4763-f5d5-c47ca5cef4c4"
      },
      "execution_count": null,
      "outputs": [
        {
          "output_type": "stream",
          "name": "stdout",
          "text": [
            "              x         y  distance\n",
            "0      0.052360  0.129993  0.319711\n",
            "1      0.657131  0.447480  0.000000\n",
            "2      0.828878  0.030633  0.719944\n",
            "3      0.223030  0.908762  0.000000\n",
            "4      0.813335  0.269179  0.298732\n",
            "...         ...       ...       ...\n",
            "19995  0.038663  0.488257  0.000000\n",
            "19996  0.067802  0.253679  0.000000\n",
            "19997  0.553791  0.587489  0.000000\n",
            "19998  0.474244  0.146277  0.540305\n",
            "19999  0.009073  0.969161  0.000000\n",
            "\n",
            "[20000 rows x 3 columns]\n",
            "                                                  x,y\n",
            "0   [[0.65713096, 0.4474796], [0.22302985, 0.90876...\n",
            "1   [[0.68899506, 0.6511867], [0.026832242, 0.5026...\n",
            "2   [[0.62352186, 0.60929805], [0.36535996, 0.5126...\n",
            "3   [[0.72128063, 0.18040578], [0.10133915, 0.1073...\n",
            "4   [[0.75582767, 0.42949426], [0.33587304, 0.6585...\n",
            "5   [[0.18719399, 0.24600255], [0.9960025, 0.16822...\n",
            "6   [[0.7930421, 0.47935164], [0.5533157, 0.246132...\n",
            "7   [[0.47004145, 0.8910386], [0.0692239, 0.807358...\n",
            "8   [[0.7298154, 0.539192], [0.042281527, 0.138102...\n",
            "9   [[0.40724462, 0.6166622], [0.20168857, 0.26877...\n",
            "10  [[0.044162724, 0.6731855], [0.2120905, 0.29293...\n",
            "11  [[0.90640694, 0.9169967], [0.30100167, 0.83240...\n",
            "12  [[0.98158747, 0.81450486], [0.5838818, 0.83427...\n",
            "13  [[0.19566186, 0.9591986], [0.62412363, 0.97404...\n",
            "14  [[0.16145106, 0.7930314], [0.5829748, 0.259934...\n",
            "15  [[0.2763769, 0.8930876], [0.10637699, 0.568758...\n",
            "16  [[0.59525716, 0.7724981], [0.8589853, 0.774099...\n",
            "17  [[0.51336604, 0.66527504], [0.9805734, 0.40419...\n",
            "18  [[0.5861548, 0.41525033], [0.452385, 0.5173724...\n",
            "19  [[0.09945403, 0.047172435], [0.5981261, 0.0902...\n"
          ]
        }
      ]
    },
    {
      "cell_type": "code",
      "execution_count": null,
      "metadata": {
        "id": "pGjW3x9ssRc9"
      },
      "outputs": [],
      "source": [
        "'''\n",
        "IN this section we are importing the modules\n",
        "'''\n",
        "import pandas as pd\n",
        "import numpy as np\n",
        "import tensorflow as tf\n",
        "import time\n",
        "from tensorflow import keras\n",
        "from tensorflow.keras import layers,Model,models#for the models\n",
        "from tensorflow.keras.optimizers import Adam\n",
        "#import tensorflow_graphics.nn.loss as tfg_loss#this is particularly for chamfer loss\n",
        "from sklearn.neighbors import KDTree#This is for chamfer loss(Source:Medium Article)\n",
        "from tensorflow.keras.layers import Input, Dense, Concatenate\n",
        "import random"
      ]
    },
    {
      "cell_type": "code",
      "source": [
        "data_sen=pd.read_csv(\"/content/boundary.csv\")"
      ],
      "metadata": {
        "id": "Z0b70qBp38B7"
      },
      "execution_count": null,
      "outputs": []
    },
    {
      "cell_type": "code",
      "source": [
        "data_sen.head()"
      ],
      "metadata": {
        "colab": {
          "base_uri": "https://localhost:8080/",
          "height": 206
        },
        "id": "Olpvynrg4keJ",
        "outputId": "f1728b14-2fcb-4d6d-a978-3dd0d7f42afd"
      },
      "execution_count": null,
      "outputs": [
        {
          "output_type": "execute_result",
          "data": {
            "text/plain": [
              "    X [ m ]       Y [ m ]   Z [ m ]   Pressure [ Pa ]   Velocity u [ m s^-1 ]  \\\n",
              "0  0.500000  6.123234e-17 -0.004899         -0.554336                     0.0   \n",
              "1  0.500000  6.123234e-17  0.004899         -0.554336                     0.0   \n",
              "2  0.499899  1.006159e-02  0.004899         -0.543604                     0.0   \n",
              "3  0.499899  1.006159e-02 -0.004899         -0.543604                     0.0   \n",
              "4  0.499594  2.014425e-02  0.004899         -0.532011                     0.0   \n",
              "\n",
              "    Velocity v [ m s^-1 ]  \n",
              "0                     0.0  \n",
              "1                     0.0  \n",
              "2                     0.0  \n",
              "3                     0.0  \n",
              "4                     0.0  "
            ],
            "text/html": [
              "\n",
              "  <div id=\"df-5e4b9997-c05e-486f-924b-2b70545bd17e\" class=\"colab-df-container\">\n",
              "    <div>\n",
              "<style scoped>\n",
              "    .dataframe tbody tr th:only-of-type {\n",
              "        vertical-align: middle;\n",
              "    }\n",
              "\n",
              "    .dataframe tbody tr th {\n",
              "        vertical-align: top;\n",
              "    }\n",
              "\n",
              "    .dataframe thead th {\n",
              "        text-align: right;\n",
              "    }\n",
              "</style>\n",
              "<table border=\"1\" class=\"dataframe\">\n",
              "  <thead>\n",
              "    <tr style=\"text-align: right;\">\n",
              "      <th></th>\n",
              "      <th>X [ m ]</th>\n",
              "      <th>Y [ m ]</th>\n",
              "      <th>Z [ m ]</th>\n",
              "      <th>Pressure [ Pa ]</th>\n",
              "      <th>Velocity u [ m s^-1 ]</th>\n",
              "      <th>Velocity v [ m s^-1 ]</th>\n",
              "    </tr>\n",
              "  </thead>\n",
              "  <tbody>\n",
              "    <tr>\n",
              "      <th>0</th>\n",
              "      <td>0.500000</td>\n",
              "      <td>6.123234e-17</td>\n",
              "      <td>-0.004899</td>\n",
              "      <td>-0.554336</td>\n",
              "      <td>0.0</td>\n",
              "      <td>0.0</td>\n",
              "    </tr>\n",
              "    <tr>\n",
              "      <th>1</th>\n",
              "      <td>0.500000</td>\n",
              "      <td>6.123234e-17</td>\n",
              "      <td>0.004899</td>\n",
              "      <td>-0.554336</td>\n",
              "      <td>0.0</td>\n",
              "      <td>0.0</td>\n",
              "    </tr>\n",
              "    <tr>\n",
              "      <th>2</th>\n",
              "      <td>0.499899</td>\n",
              "      <td>1.006159e-02</td>\n",
              "      <td>0.004899</td>\n",
              "      <td>-0.543604</td>\n",
              "      <td>0.0</td>\n",
              "      <td>0.0</td>\n",
              "    </tr>\n",
              "    <tr>\n",
              "      <th>3</th>\n",
              "      <td>0.499899</td>\n",
              "      <td>1.006159e-02</td>\n",
              "      <td>-0.004899</td>\n",
              "      <td>-0.543604</td>\n",
              "      <td>0.0</td>\n",
              "      <td>0.0</td>\n",
              "    </tr>\n",
              "    <tr>\n",
              "      <th>4</th>\n",
              "      <td>0.499594</td>\n",
              "      <td>2.014425e-02</td>\n",
              "      <td>0.004899</td>\n",
              "      <td>-0.532011</td>\n",
              "      <td>0.0</td>\n",
              "      <td>0.0</td>\n",
              "    </tr>\n",
              "  </tbody>\n",
              "</table>\n",
              "</div>\n",
              "    <div class=\"colab-df-buttons\">\n",
              "\n",
              "  <div class=\"colab-df-container\">\n",
              "    <button class=\"colab-df-convert\" onclick=\"convertToInteractive('df-5e4b9997-c05e-486f-924b-2b70545bd17e')\"\n",
              "            title=\"Convert this dataframe to an interactive table.\"\n",
              "            style=\"display:none;\">\n",
              "\n",
              "  <svg xmlns=\"http://www.w3.org/2000/svg\" height=\"24px\" viewBox=\"0 -960 960 960\">\n",
              "    <path d=\"M120-120v-720h720v720H120Zm60-500h600v-160H180v160Zm220 220h160v-160H400v160Zm0 220h160v-160H400v160ZM180-400h160v-160H180v160Zm440 0h160v-160H620v160ZM180-180h160v-160H180v160Zm440 0h160v-160H620v160Z\"/>\n",
              "  </svg>\n",
              "    </button>\n",
              "\n",
              "  <style>\n",
              "    .colab-df-container {\n",
              "      display:flex;\n",
              "      gap: 12px;\n",
              "    }\n",
              "\n",
              "    .colab-df-convert {\n",
              "      background-color: #E8F0FE;\n",
              "      border: none;\n",
              "      border-radius: 50%;\n",
              "      cursor: pointer;\n",
              "      display: none;\n",
              "      fill: #1967D2;\n",
              "      height: 32px;\n",
              "      padding: 0 0 0 0;\n",
              "      width: 32px;\n",
              "    }\n",
              "\n",
              "    .colab-df-convert:hover {\n",
              "      background-color: #E2EBFA;\n",
              "      box-shadow: 0px 1px 2px rgba(60, 64, 67, 0.3), 0px 1px 3px 1px rgba(60, 64, 67, 0.15);\n",
              "      fill: #174EA6;\n",
              "    }\n",
              "\n",
              "    .colab-df-buttons div {\n",
              "      margin-bottom: 4px;\n",
              "    }\n",
              "\n",
              "    [theme=dark] .colab-df-convert {\n",
              "      background-color: #3B4455;\n",
              "      fill: #D2E3FC;\n",
              "    }\n",
              "\n",
              "    [theme=dark] .colab-df-convert:hover {\n",
              "      background-color: #434B5C;\n",
              "      box-shadow: 0px 1px 3px 1px rgba(0, 0, 0, 0.15);\n",
              "      filter: drop-shadow(0px 1px 2px rgba(0, 0, 0, 0.3));\n",
              "      fill: #FFFFFF;\n",
              "    }\n",
              "  </style>\n",
              "\n",
              "    <script>\n",
              "      const buttonEl =\n",
              "        document.querySelector('#df-5e4b9997-c05e-486f-924b-2b70545bd17e button.colab-df-convert');\n",
              "      buttonEl.style.display =\n",
              "        google.colab.kernel.accessAllowed ? 'block' : 'none';\n",
              "\n",
              "      async function convertToInteractive(key) {\n",
              "        const element = document.querySelector('#df-5e4b9997-c05e-486f-924b-2b70545bd17e');\n",
              "        const dataTable =\n",
              "          await google.colab.kernel.invokeFunction('convertToInteractive',\n",
              "                                                    [key], {});\n",
              "        if (!dataTable) return;\n",
              "\n",
              "        const docLinkHtml = 'Like what you see? Visit the ' +\n",
              "          '<a target=\"_blank\" href=https://colab.research.google.com/notebooks/data_table.ipynb>data table notebook</a>'\n",
              "          + ' to learn more about interactive tables.';\n",
              "        element.innerHTML = '';\n",
              "        dataTable['output_type'] = 'display_data';\n",
              "        await google.colab.output.renderOutput(dataTable, element);\n",
              "        const docLink = document.createElement('div');\n",
              "        docLink.innerHTML = docLinkHtml;\n",
              "        element.appendChild(docLink);\n",
              "      }\n",
              "    </script>\n",
              "  </div>\n",
              "\n",
              "\n",
              "<div id=\"df-5d9ede17-4b8f-4b7e-9677-cd3955ae569c\">\n",
              "  <button class=\"colab-df-quickchart\" onclick=\"quickchart('df-5d9ede17-4b8f-4b7e-9677-cd3955ae569c')\"\n",
              "            title=\"Suggest charts\"\n",
              "            style=\"display:none;\">\n",
              "\n",
              "<svg xmlns=\"http://www.w3.org/2000/svg\" height=\"24px\"viewBox=\"0 0 24 24\"\n",
              "     width=\"24px\">\n",
              "    <g>\n",
              "        <path d=\"M19 3H5c-1.1 0-2 .9-2 2v14c0 1.1.9 2 2 2h14c1.1 0 2-.9 2-2V5c0-1.1-.9-2-2-2zM9 17H7v-7h2v7zm4 0h-2V7h2v10zm4 0h-2v-4h2v4z\"/>\n",
              "    </g>\n",
              "</svg>\n",
              "  </button>\n",
              "\n",
              "<style>\n",
              "  .colab-df-quickchart {\n",
              "      --bg-color: #E8F0FE;\n",
              "      --fill-color: #1967D2;\n",
              "      --hover-bg-color: #E2EBFA;\n",
              "      --hover-fill-color: #174EA6;\n",
              "      --disabled-fill-color: #AAA;\n",
              "      --disabled-bg-color: #DDD;\n",
              "  }\n",
              "\n",
              "  [theme=dark] .colab-df-quickchart {\n",
              "      --bg-color: #3B4455;\n",
              "      --fill-color: #D2E3FC;\n",
              "      --hover-bg-color: #434B5C;\n",
              "      --hover-fill-color: #FFFFFF;\n",
              "      --disabled-bg-color: #3B4455;\n",
              "      --disabled-fill-color: #666;\n",
              "  }\n",
              "\n",
              "  .colab-df-quickchart {\n",
              "    background-color: var(--bg-color);\n",
              "    border: none;\n",
              "    border-radius: 50%;\n",
              "    cursor: pointer;\n",
              "    display: none;\n",
              "    fill: var(--fill-color);\n",
              "    height: 32px;\n",
              "    padding: 0;\n",
              "    width: 32px;\n",
              "  }\n",
              "\n",
              "  .colab-df-quickchart:hover {\n",
              "    background-color: var(--hover-bg-color);\n",
              "    box-shadow: 0 1px 2px rgba(60, 64, 67, 0.3), 0 1px 3px 1px rgba(60, 64, 67, 0.15);\n",
              "    fill: var(--button-hover-fill-color);\n",
              "  }\n",
              "\n",
              "  .colab-df-quickchart-complete:disabled,\n",
              "  .colab-df-quickchart-complete:disabled:hover {\n",
              "    background-color: var(--disabled-bg-color);\n",
              "    fill: var(--disabled-fill-color);\n",
              "    box-shadow: none;\n",
              "  }\n",
              "\n",
              "  .colab-df-spinner {\n",
              "    border: 2px solid var(--fill-color);\n",
              "    border-color: transparent;\n",
              "    border-bottom-color: var(--fill-color);\n",
              "    animation:\n",
              "      spin 1s steps(1) infinite;\n",
              "  }\n",
              "\n",
              "  @keyframes spin {\n",
              "    0% {\n",
              "      border-color: transparent;\n",
              "      border-bottom-color: var(--fill-color);\n",
              "      border-left-color: var(--fill-color);\n",
              "    }\n",
              "    20% {\n",
              "      border-color: transparent;\n",
              "      border-left-color: var(--fill-color);\n",
              "      border-top-color: var(--fill-color);\n",
              "    }\n",
              "    30% {\n",
              "      border-color: transparent;\n",
              "      border-left-color: var(--fill-color);\n",
              "      border-top-color: var(--fill-color);\n",
              "      border-right-color: var(--fill-color);\n",
              "    }\n",
              "    40% {\n",
              "      border-color: transparent;\n",
              "      border-right-color: var(--fill-color);\n",
              "      border-top-color: var(--fill-color);\n",
              "    }\n",
              "    60% {\n",
              "      border-color: transparent;\n",
              "      border-right-color: var(--fill-color);\n",
              "    }\n",
              "    80% {\n",
              "      border-color: transparent;\n",
              "      border-right-color: var(--fill-color);\n",
              "      border-bottom-color: var(--fill-color);\n",
              "    }\n",
              "    90% {\n",
              "      border-color: transparent;\n",
              "      border-bottom-color: var(--fill-color);\n",
              "    }\n",
              "  }\n",
              "</style>\n",
              "\n",
              "  <script>\n",
              "    async function quickchart(key) {\n",
              "      const quickchartButtonEl =\n",
              "        document.querySelector('#' + key + ' button');\n",
              "      quickchartButtonEl.disabled = true;  // To prevent multiple clicks.\n",
              "      quickchartButtonEl.classList.add('colab-df-spinner');\n",
              "      try {\n",
              "        const charts = await google.colab.kernel.invokeFunction(\n",
              "            'suggestCharts', [key], {});\n",
              "      } catch (error) {\n",
              "        console.error('Error during call to suggestCharts:', error);\n",
              "      }\n",
              "      quickchartButtonEl.classList.remove('colab-df-spinner');\n",
              "      quickchartButtonEl.classList.add('colab-df-quickchart-complete');\n",
              "    }\n",
              "    (() => {\n",
              "      let quickchartButtonEl =\n",
              "        document.querySelector('#df-5d9ede17-4b8f-4b7e-9677-cd3955ae569c button');\n",
              "      quickchartButtonEl.style.display =\n",
              "        google.colab.kernel.accessAllowed ? 'block' : 'none';\n",
              "    })();\n",
              "  </script>\n",
              "</div>\n",
              "\n",
              "    </div>\n",
              "  </div>\n"
            ],
            "application/vnd.google.colaboratory.intrinsic+json": {
              "type": "dataframe",
              "variable_name": "data_sen",
              "summary": "{\n  \"name\": \"data_sen\",\n  \"rows\": 626,\n  \"fields\": [\n    {\n      \"column\": \"X [ m ]\",\n      \"properties\": {\n        \"dtype\": \"number\",\n        \"std\": 0.35383810044327085,\n        \"min\": -0.499975115,\n        \"max\": 0.5,\n        \"num_unique_values\": 313,\n        \"samples\": [\n          0.301760048,\n          0.49184528,\n          -0.272717446\n        ],\n        \"semantic_type\": \"\",\n        \"description\": \"\"\n      }\n    },\n    {\n      \"column\": \" Y [ m ]\",\n      \"properties\": {\n        \"dtype\": \"number\",\n        \"std\": 0.3538341263088048,\n        \"min\": -0.499992639,\n        \"max\": 0.499992818,\n        \"num_unique_values\": 313,\n        \"samples\": [\n          0.398673892,\n          0.0899344608,\n          -0.419076592\n        ],\n        \"semantic_type\": \"\",\n        \"description\": \"\"\n      }\n    },\n    {\n      \"column\": \" Z [ m ]\",\n      \"properties\": {\n        \"dtype\": \"number\",\n        \"std\": 0.00490263549813503,\n        \"min\": -0.00489871809,\n        \"max\": 0.00489871809,\n        \"num_unique_values\": 2,\n        \"samples\": [\n          0.00489871809,\n          -0.00489871809\n        ],\n        \"semantic_type\": \"\",\n        \"description\": \"\"\n      }\n    },\n    {\n      \"column\": \" Pressure [ Pa ]\",\n      \"properties\": {\n        \"dtype\": \"number\",\n        \"std\": 0.44733208220173676,\n        \"min\": -0.977211356,\n        \"max\": 0.66071409,\n        \"num_unique_values\": 313,\n        \"samples\": [\n          -0.359388232,\n          -0.470228136\n        ],\n        \"semantic_type\": \"\",\n        \"description\": \"\"\n      }\n    },\n    {\n      \"column\": \" Velocity u [ m s^-1 ]\",\n      \"properties\": {\n        \"dtype\": \"number\",\n        \"std\": 0.0,\n        \"min\": 0.0,\n        \"max\": 0.0,\n        \"num_unique_values\": 1,\n        \"samples\": [\n          0.0\n        ],\n        \"semantic_type\": \"\",\n        \"description\": \"\"\n      }\n    },\n    {\n      \"column\": \" Velocity v [ m s^-1 ]\",\n      \"properties\": {\n        \"dtype\": \"number\",\n        \"std\": 0.0,\n        \"min\": 0.0,\n        \"max\": 0.0,\n        \"num_unique_values\": 1,\n        \"samples\": [\n          0.0\n        ],\n        \"semantic_type\": \"\",\n        \"description\": \"\"\n      }\n    }\n  ]\n}"
            }
          },
          "metadata": {},
          "execution_count": 11
        }
      ]
    },
    {
      "cell_type": "code",
      "source": [
        "data_sen.drop(data_sen.columns[-4:], axis=1, inplace=True)"
      ],
      "metadata": {
        "id": "X7GF7sSM4BBB"
      },
      "execution_count": null,
      "outputs": []
    },
    {
      "cell_type": "code",
      "source": [
        "data_sen.head()"
      ],
      "metadata": {
        "colab": {
          "base_uri": "https://localhost:8080/",
          "height": 206
        },
        "id": "uqC1zWHusKI5",
        "outputId": "925ef182-300a-4786-863c-99bcd29bad7b"
      },
      "execution_count": null,
      "outputs": [
        {
          "output_type": "execute_result",
          "data": {
            "text/plain": [
              "    X [ m ]       Y [ m ]\n",
              "0  0.500000  6.123234e-17\n",
              "1  0.500000  6.123234e-17\n",
              "2  0.499899  1.006159e-02\n",
              "3  0.499899  1.006159e-02\n",
              "4  0.499594  2.014425e-02"
            ],
            "text/html": [
              "\n",
              "  <div id=\"df-ed375d0d-c066-461c-9e27-57160e777a73\" class=\"colab-df-container\">\n",
              "    <div>\n",
              "<style scoped>\n",
              "    .dataframe tbody tr th:only-of-type {\n",
              "        vertical-align: middle;\n",
              "    }\n",
              "\n",
              "    .dataframe tbody tr th {\n",
              "        vertical-align: top;\n",
              "    }\n",
              "\n",
              "    .dataframe thead th {\n",
              "        text-align: right;\n",
              "    }\n",
              "</style>\n",
              "<table border=\"1\" class=\"dataframe\">\n",
              "  <thead>\n",
              "    <tr style=\"text-align: right;\">\n",
              "      <th></th>\n",
              "      <th>X [ m ]</th>\n",
              "      <th>Y [ m ]</th>\n",
              "    </tr>\n",
              "  </thead>\n",
              "  <tbody>\n",
              "    <tr>\n",
              "      <th>0</th>\n",
              "      <td>0.500000</td>\n",
              "      <td>6.123234e-17</td>\n",
              "    </tr>\n",
              "    <tr>\n",
              "      <th>1</th>\n",
              "      <td>0.500000</td>\n",
              "      <td>6.123234e-17</td>\n",
              "    </tr>\n",
              "    <tr>\n",
              "      <th>2</th>\n",
              "      <td>0.499899</td>\n",
              "      <td>1.006159e-02</td>\n",
              "    </tr>\n",
              "    <tr>\n",
              "      <th>3</th>\n",
              "      <td>0.499899</td>\n",
              "      <td>1.006159e-02</td>\n",
              "    </tr>\n",
              "    <tr>\n",
              "      <th>4</th>\n",
              "      <td>0.499594</td>\n",
              "      <td>2.014425e-02</td>\n",
              "    </tr>\n",
              "  </tbody>\n",
              "</table>\n",
              "</div>\n",
              "    <div class=\"colab-df-buttons\">\n",
              "\n",
              "  <div class=\"colab-df-container\">\n",
              "    <button class=\"colab-df-convert\" onclick=\"convertToInteractive('df-ed375d0d-c066-461c-9e27-57160e777a73')\"\n",
              "            title=\"Convert this dataframe to an interactive table.\"\n",
              "            style=\"display:none;\">\n",
              "\n",
              "  <svg xmlns=\"http://www.w3.org/2000/svg\" height=\"24px\" viewBox=\"0 -960 960 960\">\n",
              "    <path d=\"M120-120v-720h720v720H120Zm60-500h600v-160H180v160Zm220 220h160v-160H400v160Zm0 220h160v-160H400v160ZM180-400h160v-160H180v160Zm440 0h160v-160H620v160ZM180-180h160v-160H180v160Zm440 0h160v-160H620v160Z\"/>\n",
              "  </svg>\n",
              "    </button>\n",
              "\n",
              "  <style>\n",
              "    .colab-df-container {\n",
              "      display:flex;\n",
              "      gap: 12px;\n",
              "    }\n",
              "\n",
              "    .colab-df-convert {\n",
              "      background-color: #E8F0FE;\n",
              "      border: none;\n",
              "      border-radius: 50%;\n",
              "      cursor: pointer;\n",
              "      display: none;\n",
              "      fill: #1967D2;\n",
              "      height: 32px;\n",
              "      padding: 0 0 0 0;\n",
              "      width: 32px;\n",
              "    }\n",
              "\n",
              "    .colab-df-convert:hover {\n",
              "      background-color: #E2EBFA;\n",
              "      box-shadow: 0px 1px 2px rgba(60, 64, 67, 0.3), 0px 1px 3px 1px rgba(60, 64, 67, 0.15);\n",
              "      fill: #174EA6;\n",
              "    }\n",
              "\n",
              "    .colab-df-buttons div {\n",
              "      margin-bottom: 4px;\n",
              "    }\n",
              "\n",
              "    [theme=dark] .colab-df-convert {\n",
              "      background-color: #3B4455;\n",
              "      fill: #D2E3FC;\n",
              "    }\n",
              "\n",
              "    [theme=dark] .colab-df-convert:hover {\n",
              "      background-color: #434B5C;\n",
              "      box-shadow: 0px 1px 3px 1px rgba(0, 0, 0, 0.15);\n",
              "      filter: drop-shadow(0px 1px 2px rgba(0, 0, 0, 0.3));\n",
              "      fill: #FFFFFF;\n",
              "    }\n",
              "  </style>\n",
              "\n",
              "    <script>\n",
              "      const buttonEl =\n",
              "        document.querySelector('#df-ed375d0d-c066-461c-9e27-57160e777a73 button.colab-df-convert');\n",
              "      buttonEl.style.display =\n",
              "        google.colab.kernel.accessAllowed ? 'block' : 'none';\n",
              "\n",
              "      async function convertToInteractive(key) {\n",
              "        const element = document.querySelector('#df-ed375d0d-c066-461c-9e27-57160e777a73');\n",
              "        const dataTable =\n",
              "          await google.colab.kernel.invokeFunction('convertToInteractive',\n",
              "                                                    [key], {});\n",
              "        if (!dataTable) return;\n",
              "\n",
              "        const docLinkHtml = 'Like what you see? Visit the ' +\n",
              "          '<a target=\"_blank\" href=https://colab.research.google.com/notebooks/data_table.ipynb>data table notebook</a>'\n",
              "          + ' to learn more about interactive tables.';\n",
              "        element.innerHTML = '';\n",
              "        dataTable['output_type'] = 'display_data';\n",
              "        await google.colab.output.renderOutput(dataTable, element);\n",
              "        const docLink = document.createElement('div');\n",
              "        docLink.innerHTML = docLinkHtml;\n",
              "        element.appendChild(docLink);\n",
              "      }\n",
              "    </script>\n",
              "  </div>\n",
              "\n",
              "\n",
              "<div id=\"df-f26e07a6-c639-4e6c-b0b0-10e99fdadc43\">\n",
              "  <button class=\"colab-df-quickchart\" onclick=\"quickchart('df-f26e07a6-c639-4e6c-b0b0-10e99fdadc43')\"\n",
              "            title=\"Suggest charts\"\n",
              "            style=\"display:none;\">\n",
              "\n",
              "<svg xmlns=\"http://www.w3.org/2000/svg\" height=\"24px\"viewBox=\"0 0 24 24\"\n",
              "     width=\"24px\">\n",
              "    <g>\n",
              "        <path d=\"M19 3H5c-1.1 0-2 .9-2 2v14c0 1.1.9 2 2 2h14c1.1 0 2-.9 2-2V5c0-1.1-.9-2-2-2zM9 17H7v-7h2v7zm4 0h-2V7h2v10zm4 0h-2v-4h2v4z\"/>\n",
              "    </g>\n",
              "</svg>\n",
              "  </button>\n",
              "\n",
              "<style>\n",
              "  .colab-df-quickchart {\n",
              "      --bg-color: #E8F0FE;\n",
              "      --fill-color: #1967D2;\n",
              "      --hover-bg-color: #E2EBFA;\n",
              "      --hover-fill-color: #174EA6;\n",
              "      --disabled-fill-color: #AAA;\n",
              "      --disabled-bg-color: #DDD;\n",
              "  }\n",
              "\n",
              "  [theme=dark] .colab-df-quickchart {\n",
              "      --bg-color: #3B4455;\n",
              "      --fill-color: #D2E3FC;\n",
              "      --hover-bg-color: #434B5C;\n",
              "      --hover-fill-color: #FFFFFF;\n",
              "      --disabled-bg-color: #3B4455;\n",
              "      --disabled-fill-color: #666;\n",
              "  }\n",
              "\n",
              "  .colab-df-quickchart {\n",
              "    background-color: var(--bg-color);\n",
              "    border: none;\n",
              "    border-radius: 50%;\n",
              "    cursor: pointer;\n",
              "    display: none;\n",
              "    fill: var(--fill-color);\n",
              "    height: 32px;\n",
              "    padding: 0;\n",
              "    width: 32px;\n",
              "  }\n",
              "\n",
              "  .colab-df-quickchart:hover {\n",
              "    background-color: var(--hover-bg-color);\n",
              "    box-shadow: 0 1px 2px rgba(60, 64, 67, 0.3), 0 1px 3px 1px rgba(60, 64, 67, 0.15);\n",
              "    fill: var(--button-hover-fill-color);\n",
              "  }\n",
              "\n",
              "  .colab-df-quickchart-complete:disabled,\n",
              "  .colab-df-quickchart-complete:disabled:hover {\n",
              "    background-color: var(--disabled-bg-color);\n",
              "    fill: var(--disabled-fill-color);\n",
              "    box-shadow: none;\n",
              "  }\n",
              "\n",
              "  .colab-df-spinner {\n",
              "    border: 2px solid var(--fill-color);\n",
              "    border-color: transparent;\n",
              "    border-bottom-color: var(--fill-color);\n",
              "    animation:\n",
              "      spin 1s steps(1) infinite;\n",
              "  }\n",
              "\n",
              "  @keyframes spin {\n",
              "    0% {\n",
              "      border-color: transparent;\n",
              "      border-bottom-color: var(--fill-color);\n",
              "      border-left-color: var(--fill-color);\n",
              "    }\n",
              "    20% {\n",
              "      border-color: transparent;\n",
              "      border-left-color: var(--fill-color);\n",
              "      border-top-color: var(--fill-color);\n",
              "    }\n",
              "    30% {\n",
              "      border-color: transparent;\n",
              "      border-left-color: var(--fill-color);\n",
              "      border-top-color: var(--fill-color);\n",
              "      border-right-color: var(--fill-color);\n",
              "    }\n",
              "    40% {\n",
              "      border-color: transparent;\n",
              "      border-right-color: var(--fill-color);\n",
              "      border-top-color: var(--fill-color);\n",
              "    }\n",
              "    60% {\n",
              "      border-color: transparent;\n",
              "      border-right-color: var(--fill-color);\n",
              "    }\n",
              "    80% {\n",
              "      border-color: transparent;\n",
              "      border-right-color: var(--fill-color);\n",
              "      border-bottom-color: var(--fill-color);\n",
              "    }\n",
              "    90% {\n",
              "      border-color: transparent;\n",
              "      border-bottom-color: var(--fill-color);\n",
              "    }\n",
              "  }\n",
              "</style>\n",
              "\n",
              "  <script>\n",
              "    async function quickchart(key) {\n",
              "      const quickchartButtonEl =\n",
              "        document.querySelector('#' + key + ' button');\n",
              "      quickchartButtonEl.disabled = true;  // To prevent multiple clicks.\n",
              "      quickchartButtonEl.classList.add('colab-df-spinner');\n",
              "      try {\n",
              "        const charts = await google.colab.kernel.invokeFunction(\n",
              "            'suggestCharts', [key], {});\n",
              "      } catch (error) {\n",
              "        console.error('Error during call to suggestCharts:', error);\n",
              "      }\n",
              "      quickchartButtonEl.classList.remove('colab-df-spinner');\n",
              "      quickchartButtonEl.classList.add('colab-df-quickchart-complete');\n",
              "    }\n",
              "    (() => {\n",
              "      let quickchartButtonEl =\n",
              "        document.querySelector('#df-f26e07a6-c639-4e6c-b0b0-10e99fdadc43 button');\n",
              "      quickchartButtonEl.style.display =\n",
              "        google.colab.kernel.accessAllowed ? 'block' : 'none';\n",
              "    })();\n",
              "  </script>\n",
              "</div>\n",
              "\n",
              "    </div>\n",
              "  </div>\n"
            ],
            "application/vnd.google.colaboratory.intrinsic+json": {
              "type": "dataframe",
              "variable_name": "data_sen",
              "summary": "{\n  \"name\": \"data_sen\",\n  \"rows\": 626,\n  \"fields\": [\n    {\n      \"column\": \"X [ m ]\",\n      \"properties\": {\n        \"dtype\": \"number\",\n        \"std\": 0.35383810044327085,\n        \"min\": -0.499975115,\n        \"max\": 0.5,\n        \"num_unique_values\": 313,\n        \"samples\": [\n          0.301760048,\n          0.49184528,\n          -0.272717446\n        ],\n        \"semantic_type\": \"\",\n        \"description\": \"\"\n      }\n    },\n    {\n      \"column\": \" Y [ m ]\",\n      \"properties\": {\n        \"dtype\": \"number\",\n        \"std\": 0.3538341263088048,\n        \"min\": -0.499992639,\n        \"max\": 0.499992818,\n        \"num_unique_values\": 313,\n        \"samples\": [\n          0.398673892,\n          0.0899344608,\n          -0.419076592\n        ],\n        \"semantic_type\": \"\",\n        \"description\": \"\"\n      }\n    }\n  ]\n}"
            }
          },
          "metadata": {},
          "execution_count": 70
        }
      ]
    },
    {
      "cell_type": "code",
      "source": [
        "# prompt: convert every combined_df value to double\n",
        "\n",
        "combined_df = combined_df.astype('double')\n"
      ],
      "metadata": {
        "id": "o4nOPYads5-2"
      },
      "execution_count": null,
      "outputs": []
    },
    {
      "cell_type": "code",
      "source": [
        "data_bcn_check=pd.DataFrame(columns=['x','y'])\n",
        "for i in range(0,data_sen.shape[0]):\n",
        "  if i%2==0:\n",
        "   data_bcn_check.loc[i]=[data_sen.iloc[i,0],data_sen.iloc[i,1]]"
      ],
      "metadata": {
        "id": "EWAvMibyt6Tr"
      },
      "execution_count": null,
      "outputs": []
    },
    {
      "cell_type": "code",
      "source": [
        "data_bcn_check.shape[0]"
      ],
      "metadata": {
        "colab": {
          "base_uri": "https://localhost:8080/"
        },
        "id": "AL8lYKbiuScO",
        "outputId": "d40d4979-7dcc-4e9c-a3b9-a06eb3c8c6c1"
      },
      "execution_count": null,
      "outputs": [
        {
          "output_type": "execute_result",
          "data": {
            "text/plain": [
              "313"
            ]
          },
          "metadata": {},
          "execution_count": 54
        }
      ]
    },
    {
      "cell_type": "code",
      "source": [
        "import time\n",
        "for i in range(0,data_bcn1.shape[0]):\n",
        "  min_dist=10000000\n",
        "  for j in range(0,data_bcn_check.shape[0]):\n",
        "    dist=np.sqrt((data_bcn1.iloc[i,0]-data_bcn_check.iloc[j,0])**2+(data_bcn1.iloc[i,1]-data_bcn_check.iloc[j,1])**2)\n",
        "    if dist<min_dist:\n",
        "      min_dist=dist\n",
        "  if i%1000==0:\n",
        "    t1=time.time()\n",
        "    print(i)\n",
        "  data_bcn1.iloc[i,2]=min_dist"
      ],
      "metadata": {
        "colab": {
          "base_uri": "https://localhost:8080/"
        },
        "id": "E9BhCQEIp1D0",
        "outputId": "e4ae7d33-4dc9-4e30-9827-a21fe8d81d2a"
      },
      "execution_count": null,
      "outputs": [
        {
          "output_type": "stream",
          "name": "stdout",
          "text": [
            "0\n",
            "1000\n",
            "2000\n",
            "3000\n",
            "4000\n",
            "5000\n",
            "6000\n",
            "7000\n",
            "8000\n",
            "9000\n",
            "10000\n",
            "11000\n",
            "12000\n",
            "13000\n",
            "14000\n",
            "15000\n",
            "16000\n",
            "17000\n"
          ]
        }
      ]
    },
    {
      "cell_type": "code",
      "source": [
        "data_bcn=combined_df.iloc[17732:35464,0:2]"
      ],
      "metadata": {
        "id": "kOPl2zELKid-"
      },
      "execution_count": null,
      "outputs": []
    },
    {
      "cell_type": "code",
      "source": [
        "data_bcn1=data_bcn.copy()"
      ],
      "metadata": {
        "id": "8UPvjuQyyMXn"
      },
      "execution_count": null,
      "outputs": []
    },
    {
      "cell_type": "code",
      "source": [
        "data_bcn1.reset_index(drop=True,inplace=True)"
      ],
      "metadata": {
        "id": "J2Joaw2Fykq8"
      },
      "execution_count": null,
      "outputs": []
    },
    {
      "cell_type": "code",
      "source": [],
      "metadata": {
        "colab": {
          "base_uri": "https://localhost:8080/"
        },
        "id": "pQ8LfQfUynGr",
        "outputId": "1dc1a97a-1ea1-408d-a9d3-8dea57d52099"
      },
      "execution_count": null,
      "outputs": [
        {
          "output_type": "execute_result",
          "data": {
            "text/plain": [
              "17732"
            ]
          },
          "metadata": {},
          "execution_count": 32
        }
      ]
    },
    {
      "cell_type": "code",
      "source": [
        "# prompt: make an empty column dist in data_BCN\n",
        "\n",
        "data_bcn1['dist'] = None\n"
      ],
      "metadata": {
        "id": "BnlpsfG5slv0"
      },
      "execution_count": null,
      "outputs": []
    },
    {
      "cell_type": "code",
      "source": [
        "df=pd.DataFrame(columns=['col'])\n",
        "np_arr=[]\n",
        "for i in range(data_sen.shape[0]):\n",
        "  if i%2==0:\n",
        "    x=data_sen.iloc[i,0]\n",
        "    y=data_sen.iloc[i,1]\n",
        "    arr=[x,y]\n",
        "    np_arr.append(arr)\n",
        "  else:\n",
        "    continue\n",
        "for i in range(0,200):\n",
        "  df.loc[i]=[np.array(np_arr)]"
      ],
      "metadata": {
        "id": "Vn71dG0361mA"
      },
      "execution_count": null,
      "outputs": []
    },
    {
      "cell_type": "code",
      "source": [
        "data_bcn.shape[0]"
      ],
      "metadata": {
        "colab": {
          "base_uri": "https://localhost:8080/"
        },
        "id": "vLYQtsvNqlC2",
        "outputId": "b07166e6-fa1f-4d7e-dfdb-6e86a1c303eb"
      },
      "execution_count": null,
      "outputs": [
        {
          "output_type": "execute_result",
          "data": {
            "text/plain": [
              "17732"
            ]
          },
          "metadata": {},
          "execution_count": 77
        }
      ]
    },
    {
      "cell_type": "code",
      "source": [
        "'''\n",
        "Dummy Dataset creation for SEN testing\n",
        "'''\n",
        "#This code creates a pandas dataframe with numpy arrays for dummy tasting. It is basically a set of 1000 numpy arrys(corr. to each shape) each with 400 [x,y] coordinates each.\n",
        "#df = pd.DataFrame({'col':  for _ in range(200)]})\n",
        "X_train = tf.stack(df['col'].values)#Converts the df to a tensor for direct value input into model\n",
        "original_shape=[313,2]\n",
        "prod_shape=800\n",
        "latent_dim=60\n",
        "print(df)"
      ],
      "metadata": {
        "id": "xubHJo5BTmRG",
        "outputId": "c1d5c277-49e7-4dce-c0b6-f1ff21a0d0bb",
        "colab": {
          "base_uri": "https://localhost:8080/"
        }
      },
      "execution_count": null,
      "outputs": [
        {
          "output_type": "stream",
          "name": "stdout",
          "text": [
            "                                                   col\n",
            "0    [[0.5, 6.12323426e-17], [0.499898762, 0.010061...\n",
            "1    [[0.5, 6.12323426e-17], [0.499898762, 0.010061...\n",
            "2    [[0.5, 6.12323426e-17], [0.499898762, 0.010061...\n",
            "3    [[0.5, 6.12323426e-17], [0.499898762, 0.010061...\n",
            "4    [[0.5, 6.12323426e-17], [0.499898762, 0.010061...\n",
            "..                                                 ...\n",
            "195  [[0.5, 6.12323426e-17], [0.499898762, 0.010061...\n",
            "196  [[0.5, 6.12323426e-17], [0.499898762, 0.010061...\n",
            "197  [[0.5, 6.12323426e-17], [0.499898762, 0.010061...\n",
            "198  [[0.5, 6.12323426e-17], [0.499898762, 0.010061...\n",
            "199  [[0.5, 6.12323426e-17], [0.499898762, 0.010061...\n",
            "\n",
            "[200 rows x 1 columns]\n"
          ]
        }
      ]
    },
    {
      "cell_type": "code",
      "source": [
        "'''\n",
        "Dummy Dataset creation for SEN testing\n",
        "'''\n",
        "#This code creates a pandas dataframe with numpy arrays for dummy tasting. It is basically a set of 1000 numpy arrys(corr. to each shape) each with 400 [x,y] coordinates each.\n",
        "#df = pd.DataFrame({'col': [np.random.random([400,2]) for _ in range(200)]})\n",
        "#X_train = tf.stack(new_df['x,y'].values)#Converts the df to a tensor for direct value input into model\n",
        "X_train=data_tensor\n",
        "original_shape=[313,2]\n",
        "prod_shape=313*2\n",
        "latent_dim=60\n",
        "#print(new_df)"
      ],
      "metadata": {
        "id": "5XwmWfoOA0bE"
      },
      "execution_count": null,
      "outputs": []
    },
    {
      "cell_type": "code",
      "source": [
        "'''\n",
        "Chamfer distance for SEN loss\n",
        "'''\n",
        "###This is the chamfer distance. We have modified it from the medium article using gemini ai for our case\n",
        "def chamfer_distance(A, B):\n",
        "    chamfer_dist = 0\n",
        "    for i in range(A.shape[0]): # Iterate over batch\n",
        "        tree_A = KDTree(A[i])\n",
        "        tree_B = KDTree(B[i])\n",
        "        dist_A, _ = tree_A.query(B[i])\n",
        "        dist_B, _ = tree_B.query(A[i])\n",
        "        chamfer_dist += (np.mean(dist_A) + np.mean(dist_B))\n",
        "    return chamfer_dist / A.shape[0] # Average over batch"
      ],
      "metadata": {
        "id": "OR6AazQc6dl_"
      },
      "execution_count": null,
      "outputs": []
    },
    {
      "cell_type": "code",
      "source": [
        "latent_dim=60"
      ],
      "metadata": {
        "id": "C3GtrhVJIPCb"
      },
      "execution_count": null,
      "outputs": []
    },
    {
      "cell_type": "code",
      "source": [
        "'''\n",
        "SEN MODEL DEFINATION\n",
        "'''\n",
        "###This is the VAE auto encoder\n",
        "class Encoder(Model):\n",
        "  def __init__(self, latent_dim):#The latent dimension is the size of the encoded array\n",
        "    super(Encoder, self).__init__()\n",
        "    '''\n",
        "    This part of the code is the encoder part. It is a 1D conv network which transfroms each [400,2] array into a 1d list of size 60\n",
        "    '''\n",
        "    self.conv1=layers.Conv1D(128,kernel_size=2,strides=1,padding='same',activation='tanh',input_shape=[original_shape])\n",
        "    self.conv2=layers.Conv1D(128,kernel_size=2,strides=1,padding='same',activation='tanh')\n",
        "    self.conv3=layers.Conv1D(256,kernel_size=2,strides=1,padding='same',activation='tanh')\n",
        "    self.conv4=layers.Conv1D(512,kernel_size=2,strides=1,padding='same',activation='tanh')\n",
        "    self.maxpool=layers.GlobalMaxPooling1D()# maxpooling converts to 512*2 array to a 512*1 array\n",
        "    self.fc1=layers.Dense(256,activation='tanh')\n",
        "    self.fc2=layers.Dense(256,activation='tanh')\n",
        "    self.fc3=layers.Dense(256,activation='tanh')\n",
        "    self.mean=layers.Dense(latent_dim)#The mean of the encoded array\n",
        "    self.logvar=layers.Dense(latent_dim)#The variance of the encoded array. This is the technique used in VAE.\n",
        "  def call(self,x):#Call function\n",
        "    x=self.conv1(x)\n",
        "    x=self.conv2(x)\n",
        "    x=self.conv3(x)\n",
        "    x=self.conv4(x)\n",
        "    x=self.maxpool(x)\n",
        "    x=self.fc1(x)\n",
        "    x=self.fc2(x)\n",
        "    x=self.fc3(x)\n",
        "    mean=self.mean(x)\n",
        "    logvar=self.logvar(x)\n",
        "    return mean,logvar\n",
        "class Decoder(Model):\n",
        "  def __init__(self, original_shape):#Original shape is the input as is seen\n",
        "    super(Decoder, self).__init__()\n",
        "    '''\n",
        "    The decoder modele which transforms the encoded array into the original shape.\n",
        "    '''\n",
        "    self.fc1=layers.Dense(128,activation='tanh')\n",
        "    self.fc2=layers.Dense(128,activation='tanh')\n",
        "    self.fc3=layers.Dense(626,activation='tanh')#Since we are using 400*2 this is 800. This will vary depending upon original shape\n",
        "    self.reshape_layer=layers.Reshape(original_shape)#Reshaping into our array\n",
        "  def call(self,x):#The call function\n",
        "    x=self.fc1(x)\n",
        "    x=self.fc2(x)\n",
        "    x=self.fc3(x)\n",
        "    x=self.reshape_layer(x)\n",
        "    return x\n",
        "class VAE(Model):\n",
        "  def __init__(self, latent_dim, original_shape):\n",
        "    super(VAE, self).__init__()\n",
        "    self.encoder=Encoder(latent_dim)\n",
        "    self.decoder=Decoder(original_shape)\n",
        "  def call(self,x):\n",
        "    '''\n",
        "    This encompasses the actual method a VAE works.\n",
        "    So what is done is a mean and variance of the latent vector is guessed. Now using gaussian distribution we construct a vector having that mean and variance.\n",
        "    Then we reconstruct the new vector using the decoder.\n",
        "    The loss I will explain later\n",
        "    '''\n",
        "    mean,log_var=self.encoder(x)\n",
        "    epsilon = tf.random.normal(shape=tf.shape(mean))\n",
        "    z = mean + tf.exp(log_var * 0.5) * epsilon\n",
        "    reconstructed = self.decoder(z)\n",
        "    return reconstructed,mean,log_var\n",
        "vae = VAE(original_shape=original_shape, latent_dim=latent_dim)#Calling the model is necessary\n",
        "vae.build(input_shape=[None,*original_shape])#Building the VAE model. This is the alternative of tensorflow.session in tf 2.0\n",
        "vae.summary()"
      ],
      "metadata": {
        "id": "RvfB5m36smiK",
        "colab": {
          "base_uri": "https://localhost:8080/"
        },
        "outputId": "887de1c8-2769-4d8c-fa84-2619b57ee82d"
      },
      "execution_count": null,
      "outputs": [
        {
          "output_type": "stream",
          "name": "stdout",
          "text": [
            "Model: \"vae\"\n",
            "_________________________________________________________________\n",
            " Layer (type)                Output Shape              Param #   \n",
            "=================================================================\n",
            " encoder (Encoder)           multiple                  655736    \n",
            "                                                                 \n",
            " decoder (Decoder)           multiple                  105074    \n",
            "                                                                 \n",
            "=================================================================\n",
            "Total params: 760810 (2.90 MB)\n",
            "Trainable params: 760810 (2.90 MB)\n",
            "Non-trainable params: 0 (0.00 Byte)\n",
            "_________________________________________________________________\n"
          ]
        }
      ]
    },
    {
      "cell_type": "code",
      "source": [
        "'''\n",
        "SEN loss and custom training\n",
        "'''\n",
        "error_loss={}\n",
        "def vae_loss(inputs, reconstructed, mean, log_var):\n",
        "    '''\n",
        "    So here I will define the loss\n",
        "    So the loss has 2 parts: The chamfer loss which is the difference between nearest vectors in constructed and reconstructed array\n",
        "    The recon loss is another part of VAE which is used to control overfitting\n",
        "    '''\n",
        "    inputs = tf.cast(inputs, tf.float64)\n",
        "    reconstructed = tf.cast(reconstructed, tf.float64)\n",
        "    #recon_loss = tfg_loss.chamfer_distance.evaluate(inputs, reconstructed)#Calculating the Chamfer loss using earlier functions\n",
        "\n",
        "    recon_loss = tf.reduce_mean(tf.reduce_sum(tf.keras.losses.mean_squared_error(inputs, reconstructed), axis=-1))\n",
        "    recon_loss=tf.reduce_mean(recon_loss)\n",
        "    kl_loss = -0.5 * tf.reduce_mean(1 + log_var - tf.square(mean) - tf.exp(log_var))\n",
        "    return recon_loss + tf.cast(tf.reduce_sum(kl_loss), tf.float64)\n",
        "\n",
        "    '''\n",
        "    recon_loss = tf.reduce_mean(tf.reduce_sum(keras.losses.binary_crossentropy(inputs, reconstructed),axis=1))\n",
        "    kl_loss = -0.5 * (1 + log_var - tf.square(mean) - tf.exp(log_var))\n",
        "    kl_loss = tf.reduce_mean(tf.reduce_sum(kl_loss))\n",
        "    return recon_loss + tf.cast(kl_loss, tf.float64)\n",
        "    '''\n",
        "    #return recon_loss\n",
        "    #return recon_loss #this return the loss as double type. This is an issue which we have corrected\n",
        "def train_vae(model, X_train, optimizer, epochs, batch_size):#The custom training\n",
        "    for epoch in range(epochs):\n",
        "        epoch_loss = 0.0\n",
        "        for batch in range(0, len(X_train), batch_size):\n",
        "            x_batch = X_train[batch:batch + batch_size]#Here we pick batches from original data\n",
        "            '''\n",
        "            The following is the famous method of how we apply backpropagation in tensorflow\n",
        "            '''\n",
        "            with tf.GradientTape() as tape:#This is the alternative of tf.gradients in tf 2.0 . We have to use tape to keep track of how loss is changing\n",
        "                reconstructed, mean, log_var = model(x_batch)#First we predict using the model\n",
        "                loss = vae_loss(x_batch, reconstructed, mean, log_var)#calculating the loss\n",
        "            gradients = tape.gradient(loss, model.trainable_variables)#backward pass to calculate gradients\n",
        "            optimizer.apply_gradients(zip(gradients, model.trainable_variables))#using gradient descent(So here zip maps the gradients to their respective training variables)\n",
        "            epoch_loss += loss.numpy()\n",
        "        error_loss[epoch]=epoch_loss\n",
        "        print(f'Epoch [{epoch + 1}/{epochs}], Loss: {epoch_loss / len(X_train)}')#Printing the loss\n",
        "optimizer = tf.keras.optimizers.Adam()#We have used adam optimizer\n",
        "train_vae(vae, X_train, optimizer, epochs=100, batch_size=32)#Training command"
      ],
      "metadata": {
        "id": "eqBqrq0s75OC",
        "colab": {
          "base_uri": "https://localhost:8080/"
        },
        "outputId": "2f4c9eaf-cad2-4664-a6b8-b82797905383"
      },
      "execution_count": null,
      "outputs": [
        {
          "output_type": "stream",
          "name": "stderr",
          "text": [
            "WARNING:tensorflow:5 out of the last 5 calls to <function _BaseOptimizer._update_step_xla at 0x782c5cc6ecb0> triggered tf.function retracing. Tracing is expensive and the excessive number of tracings could be due to (1) creating @tf.function repeatedly in a loop, (2) passing tensors with different shapes, (3) passing Python objects instead of tensors. For (1), please define your @tf.function outside of the loop. For (2), @tf.function has reduce_retracing=True option that can avoid unnecessary retracing. For (3), please refer to https://www.tensorflow.org/guide/function#controlling_retracing and https://www.tensorflow.org/api_docs/python/tf/function for  more details.\n",
            "WARNING:tensorflow:6 out of the last 6 calls to <function _BaseOptimizer._update_step_xla at 0x782c5cc6ecb0> triggered tf.function retracing. Tracing is expensive and the excessive number of tracings could be due to (1) creating @tf.function repeatedly in a loop, (2) passing tensors with different shapes, (3) passing Python objects instead of tensors. For (1), please define your @tf.function outside of the loop. For (2), @tf.function has reduce_retracing=True option that can avoid unnecessary retracing. For (3), please refer to https://www.tensorflow.org/guide/function#controlling_retracing and https://www.tensorflow.org/api_docs/python/tf/function for  more details.\n"
          ]
        },
        {
          "output_type": "stream",
          "name": "stdout",
          "text": [
            "Epoch [1/100], Loss: 1.4585697213796545\n",
            "Epoch [2/100], Loss: 0.31654664208177374\n",
            "Epoch [3/100], Loss: 0.1246328864207164\n",
            "Epoch [4/100], Loss: 0.0967752374604365\n",
            "Epoch [5/100], Loss: 0.07714067036582466\n",
            "Epoch [6/100], Loss: 0.07145357365451296\n",
            "Epoch [7/100], Loss: 0.06676740989221147\n",
            "Epoch [8/100], Loss: 0.06406498074814418\n",
            "Epoch [9/100], Loss: 0.06016790507555987\n",
            "Epoch [10/100], Loss: 0.05812038082517372\n",
            "Epoch [11/100], Loss: 0.055756738025797434\n",
            "Epoch [12/100], Loss: 0.054722125536092264\n",
            "Epoch [13/100], Loss: 0.05224229360482083\n",
            "Epoch [14/100], Loss: 0.05044125021881661\n",
            "Epoch [15/100], Loss: 0.04797061274048623\n",
            "Epoch [16/100], Loss: 0.04633917470056003\n",
            "Epoch [17/100], Loss: 0.043454842463970175\n",
            "Epoch [18/100], Loss: 0.04144199486262354\n",
            "Epoch [19/100], Loss: 0.03999823331197061\n",
            "Epoch [20/100], Loss: 0.03694842478122133\n",
            "Epoch [21/100], Loss: 0.035064656394703964\n",
            "Epoch [22/100], Loss: 0.032101228853118016\n",
            "Epoch [23/100], Loss: 0.03071049130435128\n",
            "Epoch [24/100], Loss: 0.029108838633368724\n",
            "Epoch [25/100], Loss: 0.02780725832683459\n",
            "Epoch [26/100], Loss: 0.02650829910120506\n",
            "Epoch [27/100], Loss: 0.024848075603267534\n",
            "Epoch [28/100], Loss: 0.024115045541426815\n",
            "Epoch [29/100], Loss: 0.022611228202209396\n",
            "Epoch [30/100], Loss: 0.02213853293889826\n",
            "Epoch [31/100], Loss: 0.020664183152460488\n",
            "Epoch [32/100], Loss: 0.019658987740466295\n",
            "Epoch [33/100], Loss: 0.019351510264667665\n",
            "Epoch [34/100], Loss: 0.0178806589905142\n",
            "Epoch [35/100], Loss: 0.0172729808451\n",
            "Epoch [36/100], Loss: 0.016288113376302975\n",
            "Epoch [37/100], Loss: 0.016333744475999938\n",
            "Epoch [38/100], Loss: 0.015364106994668603\n",
            "Epoch [39/100], Loss: 0.01535515625009967\n",
            "Epoch [40/100], Loss: 0.014664325724978236\n",
            "Epoch [41/100], Loss: 0.014056646959306703\n",
            "Epoch [42/100], Loss: 0.013022593475900788\n",
            "Epoch [43/100], Loss: 0.02659286470745136\n",
            "Epoch [44/100], Loss: 0.03427521863784591\n",
            "Epoch [45/100], Loss: 0.021273600790220983\n",
            "Epoch [46/100], Loss: 0.016559847162604238\n",
            "Epoch [47/100], Loss: 0.014054152463870212\n",
            "Epoch [48/100], Loss: 0.012192418091556845\n",
            "Epoch [49/100], Loss: 0.01079792679117164\n",
            "Epoch [50/100], Loss: 0.010286848543841605\n",
            "Epoch [51/100], Loss: 0.010217065812994405\n",
            "Epoch [52/100], Loss: 0.010383646696944642\n",
            "Epoch [53/100], Loss: 0.009668084585613137\n",
            "Epoch [54/100], Loss: 0.009931506143240747\n",
            "Epoch [55/100], Loss: 0.009659742430522927\n",
            "Epoch [56/100], Loss: 0.008574173861117586\n",
            "Epoch [57/100], Loss: 0.008614761371181123\n",
            "Epoch [58/100], Loss: 0.008900514551048448\n",
            "Epoch [59/100], Loss: 0.010660519827256748\n",
            "Epoch [60/100], Loss: 0.00934049181819876\n",
            "Epoch [61/100], Loss: 0.00922032135781081\n",
            "Epoch [62/100], Loss: 0.008511323497712104\n",
            "Epoch [63/100], Loss: 0.009204351977099985\n",
            "Epoch [64/100], Loss: 0.007467626168661698\n",
            "Epoch [65/100], Loss: 0.008117120553102524\n",
            "Epoch [66/100], Loss: 0.008216833269508478\n",
            "Epoch [67/100], Loss: 0.008763922199139634\n",
            "Epoch [68/100], Loss: 0.012224819314194392\n",
            "Epoch [69/100], Loss: 0.008199596236834219\n",
            "Epoch [70/100], Loss: 0.007060692952426925\n",
            "Epoch [71/100], Loss: 0.0064489314872649105\n",
            "Epoch [72/100], Loss: 0.007927447921664572\n",
            "Epoch [73/100], Loss: 0.0101507451217703\n",
            "Epoch [74/100], Loss: 0.007579211501970761\n",
            "Epoch [75/100], Loss: 0.007803544801860502\n",
            "Epoch [76/100], Loss: 0.006675751588235428\n",
            "Epoch [77/100], Loss: 0.0063692226431077996\n",
            "Epoch [78/100], Loss: 0.007084026779903751\n",
            "Epoch [79/100], Loss: 0.009498661550634935\n",
            "Epoch [80/100], Loss: 0.008959503799729951\n",
            "Epoch [81/100], Loss: 0.008818154172465634\n",
            "Epoch [82/100], Loss: 0.008417548135614579\n",
            "Epoch [83/100], Loss: 0.012252128153594066\n",
            "Epoch [84/100], Loss: 0.010075399886320769\n",
            "Epoch [85/100], Loss: 0.006732272438596761\n",
            "Epoch [86/100], Loss: 0.0069243062982238665\n",
            "Epoch [87/100], Loss: 0.007364986890186891\n",
            "Epoch [88/100], Loss: 0.009506291999729398\n",
            "Epoch [89/100], Loss: 0.006350286405433792\n",
            "Epoch [90/100], Loss: 0.007247702274195785\n",
            "Epoch [91/100], Loss: 0.0069016769778122815\n",
            "Epoch [92/100], Loss: 0.0057883825060348745\n",
            "Epoch [93/100], Loss: 0.005684470782618861\n",
            "Epoch [94/100], Loss: 0.005018216982460123\n",
            "Epoch [95/100], Loss: 0.004657749549912163\n",
            "Epoch [96/100], Loss: 0.010377221096477167\n",
            "Epoch [97/100], Loss: 0.010649331926401807\n",
            "Epoch [98/100], Loss: 0.013345641308537793\n",
            "Epoch [99/100], Loss: 0.03851730703024377\n",
            "Epoch [100/100], Loss: 0.027750859403864857\n"
          ]
        }
      ]
    },
    {
      "cell_type": "code",
      "source": [
        "# prompt: plot the keys of a dictionary as x and values as y\n",
        "\n",
        "import matplotlib.pyplot as plt\n",
        "\n",
        "def plot_dict(dictionary):\n",
        "  \"\"\"\n",
        "  Plots the keys of a dictionary as x and values as y.\n",
        "\n",
        "  Args:\n",
        "    dictionary: The dictionary to plot.\n",
        "  \"\"\"\n",
        "  x = list(dictionary.keys())\n",
        "  y = list(dictionary.values())\n",
        "  plt.plot(x, y)\n",
        "  plt.xlabel(\"epochs\")\n",
        "  plt.ylabel(\"loss\")\n",
        "  plt.show()\n",
        "\n",
        "# Example usage\n",
        "plot_dict(error_loss)\n"
      ],
      "metadata": {
        "colab": {
          "base_uri": "https://localhost:8080/",
          "height": 449
        },
        "id": "qzSDe_s1OuKM",
        "outputId": "1fe847ca-3467-4c40-9285-dd1f145de39f"
      },
      "execution_count": null,
      "outputs": [
        {
          "output_type": "display_data",
          "data": {
            "text/plain": [
              "<Figure size 640x480 with 1 Axes>"
            ],
            "image/png": "[encoded data removed]"
          },
          "metadata": {}
        }
      ]
    },
    {
      "cell_type": "code",
      "source": [
        "input_data = tf.cast(tf.expand_dims(X_train[0], axis=0),tf.float32)\n",
        "encoded_version = vae.encoder(input_data)\n",
        "decoded_version = vae.decoder(encoded_version[0])\n",
        "#print(input_data[0:10])\n",
        "#print(decoded_version[0:10])\n",
        "# Cast decoded_version to float32 to match input_data\n",
        "decoded_version = tf.cast(decoded_version, tf.float32)\n",
        "\n",
        "error_percent = tf.reduce_mean(tf.abs(decoded_version - input_data)) / tf.reduce_mean(tf.abs(input_data)) * 100\n",
        "print(f\"Reconstruction accuracy: {100.00-error_percent:.2f}%\")"
      ],
      "metadata": {
        "colab": {
          "base_uri": "https://localhost:8080/"
        },
        "id": "RPKdx3UmEHjy",
        "outputId": "be75ada2-094c-46a9-a264-f64fdfa55993"
      },
      "execution_count": null,
      "outputs": [
        {
          "output_type": "stream",
          "name": "stdout",
          "text": [
            "Reconstruction accuracy: 99.36%\n"
          ]
        }
      ]
    },
    {
      "cell_type": "code",
      "source": [
        "print(error_percent)"
      ],
      "metadata": {
        "colab": {
          "base_uri": "https://localhost:8080/"
        },
        "id": "Kf-RJhstGmrV",
        "outputId": "090b5fc4-362c-4546-e60a-90f2a2115acb"
      },
      "execution_count": null,
      "outputs": [
        {
          "output_type": "stream",
          "name": "stdout",
          "text": [
            "tf.Tensor(50.197826, shape=(), dtype=float32)\n"
          ]
        }
      ]
    },
    {
      "cell_type": "code",
      "source": [
        "enc_mean,enc_logvar=vae.encoder(X_train)\n",
        "encoded_boundary=enc_mean[0].numpy()"
      ],
      "metadata": {
        "id": "4vnHJj514VR1"
      },
      "execution_count": null,
      "outputs": []
    },
    {
      "cell_type": "code",
      "source": [
        "import pandas as pd\n",
        "pinn_df1 = pd.DataFrame(columns=[f\"x\" for i in range(1, 2)] + [\"y\", \"t\"] + [f\"a{i}\" for i in range(1, 61)])\n",
        "pinn_df1= pinn_df1.reindex(range(240000))\n",
        "new_df_1=df[df[\"distance\"]!=0.0000]\n",
        "print(new_df_1)"
      ],
      "metadata": {
        "colab": {
          "base_uri": "https://localhost:8080/"
        },
        "id": "K2-hqKx6EXz9",
        "outputId": "4f13da17-2702-40da-ff0c-63c52d59f447"
      },
      "execution_count": null,
      "outputs": [
        {
          "output_type": "stream",
          "name": "stdout",
          "text": [
            "              x         y  distance\n",
            "0      0.052360  0.129993  0.319711\n",
            "2      0.828878  0.030633  0.719944\n",
            "4      0.813335  0.269179  0.298732\n",
            "5      0.297848  0.407121  0.667602\n",
            "7      0.786214  0.712972  0.897338\n",
            "...         ...       ...       ...\n",
            "19991  0.552150  0.842667  0.949635\n",
            "19992  0.050586  0.022517  0.343059\n",
            "19993  0.249585  0.911743  0.813983\n",
            "19994  0.216718  0.905107  0.196116\n",
            "19998  0.474244  0.146277  0.540305\n",
            "\n",
            "[12000 rows x 3 columns]\n"
          ]
        }
      ]
    },
    {
      "cell_type": "code",
      "source": [
        "new_df_1_expanded = pd.DataFrame(np.repeat(new_df_1.values, 20, axis=0), columns=new_df_1.columns)\n",
        "new_df_1_expanded['t'] = np.tile(np.arange(1, 21), len(new_df_1))\n",
        "new_df_1_expanded.drop(columns=['distance'], inplace=True)\n",
        "new_df_1_expanded = new_df_1_expanded.astype(np.float32)\n",
        "print(new_df_1_expanded)"
      ],
      "metadata": {
        "colab": {
          "base_uri": "https://localhost:8080/"
        },
        "id": "CZUZJadzUNor",
        "outputId": "e3bba6b6-0b3d-46a5-dd80-9831dff4c7ad"
      },
      "execution_count": null,
      "outputs": [
        {
          "output_type": "stream",
          "name": "stdout",
          "text": [
            "               x         y     t\n",
            "0       0.052360  0.129993   1.0\n",
            "1       0.052360  0.129993   2.0\n",
            "2       0.052360  0.129993   3.0\n",
            "3       0.052360  0.129993   4.0\n",
            "4       0.052360  0.129993   5.0\n",
            "...          ...       ...   ...\n",
            "239995  0.474244  0.146277  16.0\n",
            "239996  0.474244  0.146277  17.0\n",
            "239997  0.474244  0.146277  18.0\n",
            "239998  0.474244  0.146277  19.0\n",
            "239999  0.474244  0.146277  20.0\n",
            "\n",
            "[240000 rows x 3 columns]\n"
          ]
        }
      ]
    },
    {
      "cell_type": "code",
      "source": [
        "new_df_1_expanded = new_df_1_expanded.astype(np.float32)"
      ],
      "metadata": {
        "id": "s3PL7ZDUWpy2"
      },
      "execution_count": null,
      "outputs": []
    },
    {
      "cell_type": "code",
      "source": [
        "enc_mean_np = enc_mean.numpy()\n",
        "enc_mean_df = pd.DataFrame(enc_mean_np, columns=[f\"a{i}\" for i in range(1, 61)])\n",
        "enc_mean_df_repeated = pd.DataFrame(np.repeat(enc_mean_df.values, 12000, axis=0), columns=enc_mean_df.columns)\n",
        "new_df_1_expanded = pd.concat([new_df_1_expanded, enc_mean_df_repeated], axis=1)\n",
        "print(new_df_1_expanded)"
      ],
      "metadata": {
        "colab": {
          "base_uri": "https://localhost:8080/"
        },
        "id": "1opRGq6eV5u3",
        "outputId": "8db5b040-18f7-4ea2-a99a-699b9bed8c56"
      },
      "execution_count": null,
      "outputs": [
        {
          "output_type": "stream",
          "name": "stdout",
          "text": [
            "               x         y   t        a1   a2   a3   a4   a5   a6   a7  ...  \\\n",
            "0       0.052360  0.129993   1  0.011304  0.0  0.0  0.0  0.0  0.0  0.0  ...   \n",
            "1       0.052360  0.129993   2  0.011304  0.0  0.0  0.0  0.0  0.0  0.0  ...   \n",
            "2       0.052360  0.129993   3  0.011304  0.0  0.0  0.0  0.0  0.0  0.0  ...   \n",
            "3       0.052360  0.129993   4  0.011304  0.0  0.0  0.0  0.0  0.0  0.0  ...   \n",
            "4       0.052360  0.129993   5  0.011304  0.0  0.0  0.0  0.0  0.0  0.0  ...   \n",
            "...          ...       ...  ..       ...  ...  ...  ...  ...  ...  ...  ...   \n",
            "239995  0.474244  0.146277  16  0.011286  0.0  0.0  0.0  0.0  0.0  0.0  ...   \n",
            "239996  0.474244  0.146277  17  0.011286  0.0  0.0  0.0  0.0  0.0  0.0  ...   \n",
            "239997  0.474244  0.146277  18  0.011286  0.0  0.0  0.0  0.0  0.0  0.0  ...   \n",
            "239998  0.474244  0.146277  19  0.011286  0.0  0.0  0.0  0.0  0.0  0.0  ...   \n",
            "239999  0.474244  0.146277  20  0.011286  0.0  0.0  0.0  0.0  0.0  0.0  ...   \n",
            "\n",
            "        a51  a52  a53  a54  a55  a56       a57  a58       a59  a60  \n",
            "0       0.0  0.0  0.0  0.0  0.0  0.0  0.006979  0.0  0.001281  0.0  \n",
            "1       0.0  0.0  0.0  0.0  0.0  0.0  0.006979  0.0  0.001281  0.0  \n",
            "2       0.0  0.0  0.0  0.0  0.0  0.0  0.006979  0.0  0.001281  0.0  \n",
            "3       0.0  0.0  0.0  0.0  0.0  0.0  0.006979  0.0  0.001281  0.0  \n",
            "4       0.0  0.0  0.0  0.0  0.0  0.0  0.006979  0.0  0.001281  0.0  \n",
            "...     ...  ...  ...  ...  ...  ...       ...  ...       ...  ...  \n",
            "239995  0.0  0.0  0.0  0.0  0.0  0.0  0.007020  0.0  0.001310  0.0  \n",
            "239996  0.0  0.0  0.0  0.0  0.0  0.0  0.007020  0.0  0.001310  0.0  \n",
            "239997  0.0  0.0  0.0  0.0  0.0  0.0  0.007020  0.0  0.001310  0.0  \n",
            "239998  0.0  0.0  0.0  0.0  0.0  0.0  0.007020  0.0  0.001310  0.0  \n",
            "239999  0.0  0.0  0.0  0.0  0.0  0.0  0.007020  0.0  0.001310  0.0  \n",
            "\n",
            "[240000 rows x 63 columns]\n"
          ]
        }
      ]
    },
    {
      "cell_type": "code",
      "source": [
        "df_Y=new_df_1_expanded[[\"x\",\"y\"]]\n",
        "df_Y_tensor=tf.convert_to_tensor(df_Y)\n",
        "df_Y_BCN_pred=model1.predict(df_Y_tensor)"
      ],
      "metadata": {
        "colab": {
          "base_uri": "https://localhost:8080/"
        },
        "id": "AKRWJfbIae0b",
        "outputId": "11554605-973b-4c9e-a4f1-59169d98034b"
      },
      "execution_count": null,
      "outputs": [
        {
          "output_type": "stream",
          "name": "stdout",
          "text": [
            "7500/7500 [==============================] - 12s 2ms/step\n"
          ]
        }
      ]
    },
    {
      "cell_type": "code",
      "source": [
        "df_Y_2=new_df_1_expanded[[\"x\",\"y\",\"t\"]]\n",
        "df_Y_2[\"BCN_pred\"]=df_Y_BCN_pred\n",
        "df_Y_2[\"inflow_speed\"]=3.0\n",
        "Y_tensor=tf.convert_to_tensor(df_Y_2)"
      ],
      "metadata": {
        "colab": {
          "base_uri": "https://localhost:8080/"
        },
        "id": "wYcP4Q8YbWgh",
        "outputId": "7f30646e-29cc-426b-e23d-e299e7337689"
      },
      "execution_count": null,
      "outputs": [
        {
          "output_type": "stream",
          "name": "stderr",
          "text": [
            "<ipython-input-41-88a97a1d2c62>:2: SettingWithCopyWarning: \n",
            "A value is trying to be set on a copy of a slice from a DataFrame.\n",
            "Try using .loc[row_indexer,col_indexer] = value instead\n",
            "\n",
            "See the caveats in the documentation: https://pandas.pydata.org/pandas-docs/stable/user_guide/indexing.html#returning-a-view-versus-a-copy\n",
            "  df_Y_2[\"BCN_pred\"]=df_Y_BCN_pred\n",
            "<ipython-input-41-88a97a1d2c62>:3: SettingWithCopyWarning: \n",
            "A value is trying to be set on a copy of a slice from a DataFrame.\n",
            "Try using .loc[row_indexer,col_indexer] = value instead\n",
            "\n",
            "See the caveats in the documentation: https://pandas.pydata.org/pandas-docs/stable/user_guide/indexing.html#returning-a-view-versus-a-copy\n",
            "  df_Y_2[\"inflow_speed\"]=3.0\n"
          ]
        }
      ]
    },
    {
      "cell_type": "code",
      "source": [
        "bcn_train = pd.concat([data_bcn1] * 20, ignore_index=True)\n",
        "data_bcn_tensor=tf.convert_to_tensor(bcn_train.values.astype(np.float32))\n",
        "data=data_bcn_tensor[:,0:2]\n",
        "labels=data_bcn_tensor[:,2]"
      ],
      "metadata": {
        "id": "yFya6HJwyuno"
      },
      "execution_count": null,
      "outputs": []
    },
    {
      "cell_type": "code",
      "source": [
        "'''\n",
        "BCN Model Defination\n",
        "'''\n",
        "'''\n",
        "BCN is a simple ANN model with 2 inputs and 1 output as of now\n",
        "We might change it to include boundary points as columns if we want\n",
        "'''\n",
        "class bcn(Model):\n",
        "  def __init__(self,input_dim):\n",
        "    super(bcn,self).__init__()\n",
        "    self.fc1=layers.Dense(25,input_dim=input_dim,activation='relu')\n",
        "    self.fc2=layers.Dense(25,activation='relu')\n",
        "    self.fc3=layers.Dense(1)\n",
        "  def call(self,x):\n",
        "    x=self.fc1(x)\n",
        "    x=self.fc2(x)\n",
        "    x=self.fc3(x)\n",
        "    return x"
      ],
      "metadata": {
        "id": "8CtIUCkWTHey"
      },
      "execution_count": null,
      "outputs": []
    },
    {
      "cell_type": "code",
      "source": [
        "'''\n",
        "Training for BCN\n",
        "'''\n",
        "'''\n",
        "Simple tensorflow training as usually done\n",
        "'''\n",
        "model1=bcn(input_dim=2)\n",
        "model1.compile(optimizer=Adam(learning_rate=0.001), loss='mse')#The compile does the function of building the model\n",
        "#model1.fit(data,labels,epochs=10,verbose=1)\n",
        "history = model1.fit(data, labels, epochs=6, batch_size=32, validation_data=(data, labels))#This is sample epochs, Change as per your wish. The verbose fulfils the function of giving us the progress bar"
      ],
      "metadata": {
        "id": "dt1HyQq6TKE0",
        "collapsed": true,
        "outputId": "72e6432a-eab0-4b4b-feae-60461195ef16",
        "colab": {
          "base_uri": "https://localhost:8080/"
        }
      },
      "execution_count": null,
      "outputs": [
        {
          "output_type": "stream",
          "name": "stdout",
          "text": [
            "Epoch 1/6\n",
            "11083/11083 [==============================] - 59s 5ms/step - loss: 0.0534 - val_loss: 3.6669e-04\n",
            "Epoch 2/6\n",
            "11083/11083 [==============================] - 55s 5ms/step - loss: 2.4376e-04 - val_loss: 1.0397e-04\n",
            "Epoch 3/6\n",
            "11083/11083 [==============================] - 52s 5ms/step - loss: 2.1537e-04 - val_loss: 6.7184e-05\n",
            "Epoch 4/6\n",
            "11083/11083 [==============================] - 53s 5ms/step - loss: 1.5847e-04 - val_loss: 1.0337e-04\n",
            "Epoch 5/6\n",
            "11083/11083 [==============================] - 53s 5ms/step - loss: 1.5590e-04 - val_loss: 1.9687e-04\n",
            "Epoch 6/6\n",
            "11083/11083 [==============================] - 55s 5ms/step - loss: 1.4351e-04 - val_loss: 7.6436e-05\n"
          ]
        }
      ]
    },
    {
      "cell_type": "code",
      "source": [
        "import matplotlib.pyplot as plt\n",
        "\n",
        "# Retrieve the loss values from the history object\n",
        "train_loss = history.history['loss']\n",
        "\n",
        "# Create a new figure\n",
        "plt.figure()\n",
        "\n",
        "# Plot training and validation loss\n",
        "plt.plot(train_loss, label='Training Loss')"
      ],
      "metadata": {
        "colab": {
          "base_uri": "https://localhost:8080/",
          "height": 447
        },
        "id": "XVtMqFT20h8c",
        "outputId": "d602a5fd-2a5d-4308-aba8-8e4e8b3acda4"
      },
      "execution_count": null,
      "outputs": [
        {
          "output_type": "execute_result",
          "data": {
            "text/plain": [
              "[<matplotlib.lines.Line2D at 0x781c255e5ab0>]"
            ]
          },
          "metadata": {},
          "execution_count": 101
        },
        {
          "output_type": "display_data",
          "data": {
            "text/plain": [
              "<Figure size 640x480 with 1 Axes>"
            ],
            "image/png": "[encoded data removed]"
          },
          "metadata": {}
        }
      ]
    },
    {
      "cell_type": "code",
      "source": [
        "data_bcn_pred=combined_df[[\"x\",\"y\"]]"
      ],
      "metadata": {
        "id": "YzYTx0bX3QIo"
      },
      "execution_count": null,
      "outputs": []
    },
    {
      "cell_type": "code",
      "source": [
        "# prompt: in combined_df make a column BCN which gives the prediction of each row\n",
        "\n",
        "df_Y_BCN_pred=model1.predict(data_bcn_pred)\n",
        "combined_df['BCN'] = df_Y_BCN_pred\n"
      ],
      "metadata": {
        "colab": {
          "base_uri": "https://localhost:8080/"
        },
        "id": "mVhKXu9G3f-x",
        "outputId": "3cb2078b-8a6d-4fa5-aedb-fe20a53b7f33"
      },
      "execution_count": null,
      "outputs": [
        {
          "output_type": "stream",
          "name": "stdout",
          "text": [
            "11083/11083 [==============================] - 19s 2ms/step\n"
          ]
        }
      ]
    },
    {
      "cell_type": "code",
      "source": [
        "combined_df.head()"
      ],
      "metadata": {
        "colab": {
          "base_uri": "https://localhost:8080/",
          "height": 255
        },
        "id": "IXxmVMaf43Oc",
        "outputId": "449d7125-482a-445e-e377-16e86114df7a"
      },
      "execution_count": null,
      "outputs": [
        {
          "output_type": "execute_result",
          "data": {
            "text/plain": [
              "           x     y         p         u    v    t  enc_boundary_0  \\\n",
              "0 -10.000000 -10.0  0.640101  1.000000  0.0  1.0       -0.219378   \n",
              "1  -8.180341 -10.0  0.640072  1.000665  0.0  1.0       -0.219378   \n",
              "2  -6.387341 -10.0  0.639889  1.002149  0.0  1.0       -0.219378   \n",
              "3  -4.696190 -10.0  0.639206  1.004285  0.0  1.0       -0.219378   \n",
              "4  -3.125059 -10.0  0.637585  1.005932  0.0  1.0       -0.219378   \n",
              "\n",
              "   enc_boundary_1  enc_boundary_2  enc_boundary_3  ...  enc_boundary_52  \\\n",
              "0        0.557131       -0.331021        0.058273  ...        -1.194965   \n",
              "1        0.557131       -0.331021        0.058273  ...        -1.194965   \n",
              "2        0.557131       -0.331021        0.058273  ...        -1.194965   \n",
              "3        0.557131       -0.331021        0.058273  ...        -1.194965   \n",
              "4        0.557131       -0.331021        0.058273  ...        -1.194965   \n",
              "\n",
              "   enc_boundary_53  enc_boundary_54  enc_boundary_55  enc_boundary_56  \\\n",
              "0         -0.87007         0.726857        -0.096534        -0.674249   \n",
              "1         -0.87007         0.726857        -0.096534        -0.674249   \n",
              "2         -0.87007         0.726857        -0.096534        -0.674249   \n",
              "3         -0.87007         0.726857        -0.096534        -0.674249   \n",
              "4         -0.87007         0.726857        -0.096534        -0.674249   \n",
              "\n",
              "   enc_boundary_57  enc_boundary_58  enc_boundary_59        BCN  inlet  \n",
              "0         0.209006          1.42026         0.698556  13.604595    1.0  \n",
              "1         0.209006          1.42026         0.698556  12.347690    1.0  \n",
              "2         0.209006          1.42026         0.698556  11.310919    1.0  \n",
              "3         0.209006          1.42026         0.698556  10.495078    1.0  \n",
              "4         0.209006          1.42026         0.698556   9.882538    1.0  \n",
              "\n",
              "[5 rows x 68 columns]"
            ],
            "text/html": [
              "\n",
              "  <div id=\"df-0061b005-9147-48e8-b198-fd984cfbb3af\" class=\"colab-df-container\">\n",
              "    <div>\n",
              "<style scoped>\n",
              "    .dataframe tbody tr th:only-of-type {\n",
              "        vertical-align: middle;\n",
              "    }\n",
              "\n",
              "    .dataframe tbody tr th {\n",
              "        vertical-align: top;\n",
              "    }\n",
              "\n",
              "    .dataframe thead th {\n",
              "        text-align: right;\n",
              "    }\n",
              "</style>\n",
              "<table border=\"1\" class=\"dataframe\">\n",
              "  <thead>\n",
              "    <tr style=\"text-align: right;\">\n",
              "      <th></th>\n",
              "      <th>x</th>\n",
              "      <th>y</th>\n",
              "      <th>p</th>\n",
              "      <th>u</th>\n",
              "      <th>v</th>\n",
              "      <th>t</th>\n",
              "      <th>enc_boundary_0</th>\n",
              "      <th>enc_boundary_1</th>\n",
              "      <th>enc_boundary_2</th>\n",
              "      <th>enc_boundary_3</th>\n",
              "      <th>...</th>\n",
              "      <th>enc_boundary_52</th>\n",
              "      <th>enc_boundary_53</th>\n",
              "      <th>enc_boundary_54</th>\n",
              "      <th>enc_boundary_55</th>\n",
              "      <th>enc_boundary_56</th>\n",
              "      <th>enc_boundary_57</th>\n",
              "      <th>enc_boundary_58</th>\n",
              "      <th>enc_boundary_59</th>\n",
              "      <th>BCN</th>\n",
              "      <th>inlet</th>\n",
              "    </tr>\n",
              "  </thead>\n",
              "  <tbody>\n",
              "    <tr>\n",
              "      <th>0</th>\n",
              "      <td>-10.000000</td>\n",
              "      <td>-10.0</td>\n",
              "      <td>0.640101</td>\n",
              "      <td>1.000000</td>\n",
              "      <td>0.0</td>\n",
              "      <td>1.0</td>\n",
              "      <td>-0.219378</td>\n",
              "      <td>0.557131</td>\n",
              "      <td>-0.331021</td>\n",
              "      <td>0.058273</td>\n",
              "      <td>...</td>\n",
              "      <td>-1.194965</td>\n",
              "      <td>-0.87007</td>\n",
              "      <td>0.726857</td>\n",
              "      <td>-0.096534</td>\n",
              "      <td>-0.674249</td>\n",
              "      <td>0.209006</td>\n",
              "      <td>1.42026</td>\n",
              "      <td>0.698556</td>\n",
              "      <td>13.604595</td>\n",
              "      <td>1.0</td>\n",
              "    </tr>\n",
              "    <tr>\n",
              "      <th>1</th>\n",
              "      <td>-8.180341</td>\n",
              "      <td>-10.0</td>\n",
              "      <td>0.640072</td>\n",
              "      <td>1.000665</td>\n",
              "      <td>0.0</td>\n",
              "      <td>1.0</td>\n",
              "      <td>-0.219378</td>\n",
              "      <td>0.557131</td>\n",
              "      <td>-0.331021</td>\n",
              "      <td>0.058273</td>\n",
              "      <td>...</td>\n",
              "      <td>-1.194965</td>\n",
              "      <td>-0.87007</td>\n",
              "      <td>0.726857</td>\n",
              "      <td>-0.096534</td>\n",
              "      <td>-0.674249</td>\n",
              "      <td>0.209006</td>\n",
              "      <td>1.42026</td>\n",
              "      <td>0.698556</td>\n",
              "      <td>12.347690</td>\n",
              "      <td>1.0</td>\n",
              "    </tr>\n",
              "    <tr>\n",
              "      <th>2</th>\n",
              "      <td>-6.387341</td>\n",
              "      <td>-10.0</td>\n",
              "      <td>0.639889</td>\n",
              "      <td>1.002149</td>\n",
              "      <td>0.0</td>\n",
              "      <td>1.0</td>\n",
              "      <td>-0.219378</td>\n",
              "      <td>0.557131</td>\n",
              "      <td>-0.331021</td>\n",
              "      <td>0.058273</td>\n",
              "      <td>...</td>\n",
              "      <td>-1.194965</td>\n",
              "      <td>-0.87007</td>\n",
              "      <td>0.726857</td>\n",
              "      <td>-0.096534</td>\n",
              "      <td>-0.674249</td>\n",
              "      <td>0.209006</td>\n",
              "      <td>1.42026</td>\n",
              "      <td>0.698556</td>\n",
              "      <td>11.310919</td>\n",
              "      <td>1.0</td>\n",
              "    </tr>\n",
              "    <tr>\n",
              "      <th>3</th>\n",
              "      <td>-4.696190</td>\n",
              "      <td>-10.0</td>\n",
              "      <td>0.639206</td>\n",
              "      <td>1.004285</td>\n",
              "      <td>0.0</td>\n",
              "      <td>1.0</td>\n",
              "      <td>-0.219378</td>\n",
              "      <td>0.557131</td>\n",
              "      <td>-0.331021</td>\n",
              "      <td>0.058273</td>\n",
              "      <td>...</td>\n",
              "      <td>-1.194965</td>\n",
              "      <td>-0.87007</td>\n",
              "      <td>0.726857</td>\n",
              "      <td>-0.096534</td>\n",
              "      <td>-0.674249</td>\n",
              "      <td>0.209006</td>\n",
              "      <td>1.42026</td>\n",
              "      <td>0.698556</td>\n",
              "      <td>10.495078</td>\n",
              "      <td>1.0</td>\n",
              "    </tr>\n",
              "    <tr>\n",
              "      <th>4</th>\n",
              "      <td>-3.125059</td>\n",
              "      <td>-10.0</td>\n",
              "      <td>0.637585</td>\n",
              "      <td>1.005932</td>\n",
              "      <td>0.0</td>\n",
              "      <td>1.0</td>\n",
              "      <td>-0.219378</td>\n",
              "      <td>0.557131</td>\n",
              "      <td>-0.331021</td>\n",
              "      <td>0.058273</td>\n",
              "      <td>...</td>\n",
              "      <td>-1.194965</td>\n",
              "      <td>-0.87007</td>\n",
              "      <td>0.726857</td>\n",
              "      <td>-0.096534</td>\n",
              "      <td>-0.674249</td>\n",
              "      <td>0.209006</td>\n",
              "      <td>1.42026</td>\n",
              "      <td>0.698556</td>\n",
              "      <td>9.882538</td>\n",
              "      <td>1.0</td>\n",
              "    </tr>\n",
              "  </tbody>\n",
              "</table>\n",
              "<p>5 rows × 68 columns</p>\n",
              "</div>\n",
              "    <div class=\"colab-df-buttons\">\n",
              "\n",
              "  <div class=\"colab-df-container\">\n",
              "    <button class=\"colab-df-convert\" onclick=\"convertToInteractive('df-0061b005-9147-48e8-b198-fd984cfbb3af')\"\n",
              "            title=\"Convert this dataframe to an interactive table.\"\n",
              "            style=\"display:none;\">\n",
              "\n",
              "  <svg xmlns=\"http://www.w3.org/2000/svg\" height=\"24px\" viewBox=\"0 -960 960 960\">\n",
              "    <path d=\"M120-120v-720h720v720H120Zm60-500h600v-160H180v160Zm220 220h160v-160H400v160Zm0 220h160v-160H400v160ZM180-400h160v-160H180v160Zm440 0h160v-160H620v160ZM180-180h160v-160H180v160Zm440 0h160v-160H620v160Z\"/>\n",
              "  </svg>\n",
              "    </button>\n",
              "\n",
              "  <style>\n",
              "    .colab-df-container {\n",
              "      display:flex;\n",
              "      gap: 12px;\n",
              "    }\n",
              "\n",
              "    .colab-df-convert {\n",
              "      background-color: #E8F0FE;\n",
              "      border: none;\n",
              "      border-radius: 50%;\n",
              "      cursor: pointer;\n",
              "      display: none;\n",
              "      fill: #1967D2;\n",
              "      height: 32px;\n",
              "      padding: 0 0 0 0;\n",
              "      width: 32px;\n",
              "    }\n",
              "\n",
              "    .colab-df-convert:hover {\n",
              "      background-color: #E2EBFA;\n",
              "      box-shadow: 0px 1px 2px rgba(60, 64, 67, 0.3), 0px 1px 3px 1px rgba(60, 64, 67, 0.15);\n",
              "      fill: #174EA6;\n",
              "    }\n",
              "\n",
              "    .colab-df-buttons div {\n",
              "      margin-bottom: 4px;\n",
              "    }\n",
              "\n",
              "    [theme=dark] .colab-df-convert {\n",
              "      background-color: #3B4455;\n",
              "      fill: #D2E3FC;\n",
              "    }\n",
              "\n",
              "    [theme=dark] .colab-df-convert:hover {\n",
              "      background-color: #434B5C;\n",
              "      box-shadow: 0px 1px 3px 1px rgba(0, 0, 0, 0.15);\n",
              "      filter: drop-shadow(0px 1px 2px rgba(0, 0, 0, 0.3));\n",
              "      fill: #FFFFFF;\n",
              "    }\n",
              "  </style>\n",
              "\n",
              "    <script>\n",
              "      const buttonEl =\n",
              "        document.querySelector('#df-0061b005-9147-48e8-b198-fd984cfbb3af button.colab-df-convert');\n",
              "      buttonEl.style.display =\n",
              "        google.colab.kernel.accessAllowed ? 'block' : 'none';\n",
              "\n",
              "      async function convertToInteractive(key) {\n",
              "        const element = document.querySelector('#df-0061b005-9147-48e8-b198-fd984cfbb3af');\n",
              "        const dataTable =\n",
              "          await google.colab.kernel.invokeFunction('convertToInteractive',\n",
              "                                                    [key], {});\n",
              "        if (!dataTable) return;\n",
              "\n",
              "        const docLinkHtml = 'Like what you see? Visit the ' +\n",
              "          '<a target=\"_blank\" href=https://colab.research.google.com/notebooks/data_table.ipynb>data table notebook</a>'\n",
              "          + ' to learn more about interactive tables.';\n",
              "        element.innerHTML = '';\n",
              "        dataTable['output_type'] = 'display_data';\n",
              "        await google.colab.output.renderOutput(dataTable, element);\n",
              "        const docLink = document.createElement('div');\n",
              "        docLink.innerHTML = docLinkHtml;\n",
              "        element.appendChild(docLink);\n",
              "      }\n",
              "    </script>\n",
              "  </div>\n",
              "\n",
              "\n",
              "<div id=\"df-a1409dee-aac1-4a7f-a697-70628516782d\">\n",
              "  <button class=\"colab-df-quickchart\" onclick=\"quickchart('df-a1409dee-aac1-4a7f-a697-70628516782d')\"\n",
              "            title=\"Suggest charts\"\n",
              "            style=\"display:none;\">\n",
              "\n",
              "<svg xmlns=\"http://www.w3.org/2000/svg\" height=\"24px\"viewBox=\"0 0 24 24\"\n",
              "     width=\"24px\">\n",
              "    <g>\n",
              "        <path d=\"M19 3H5c-1.1 0-2 .9-2 2v14c0 1.1.9 2 2 2h14c1.1 0 2-.9 2-2V5c0-1.1-.9-2-2-2zM9 17H7v-7h2v7zm4 0h-2V7h2v10zm4 0h-2v-4h2v4z\"/>\n",
              "    </g>\n",
              "</svg>\n",
              "  </button>\n",
              "\n",
              "<style>\n",
              "  .colab-df-quickchart {\n",
              "      --bg-color: #E8F0FE;\n",
              "      --fill-color: #1967D2;\n",
              "      --hover-bg-color: #E2EBFA;\n",
              "      --hover-fill-color: #174EA6;\n",
              "      --disabled-fill-color: #AAA;\n",
              "      --disabled-bg-color: #DDD;\n",
              "  }\n",
              "\n",
              "  [theme=dark] .colab-df-quickchart {\n",
              "      --bg-color: #3B4455;\n",
              "      --fill-color: #D2E3FC;\n",
              "      --hover-bg-color: #434B5C;\n",
              "      --hover-fill-color: #FFFFFF;\n",
              "      --disabled-bg-color: #3B4455;\n",
              "      --disabled-fill-color: #666;\n",
              "  }\n",
              "\n",
              "  .colab-df-quickchart {\n",
              "    background-color: var(--bg-color);\n",
              "    border: none;\n",
              "    border-radius: 50%;\n",
              "    cursor: pointer;\n",
              "    display: none;\n",
              "    fill: var(--fill-color);\n",
              "    height: 32px;\n",
              "    padding: 0;\n",
              "    width: 32px;\n",
              "  }\n",
              "\n",
              "  .colab-df-quickchart:hover {\n",
              "    background-color: var(--hover-bg-color);\n",
              "    box-shadow: 0 1px 2px rgba(60, 64, 67, 0.3), 0 1px 3px 1px rgba(60, 64, 67, 0.15);\n",
              "    fill: var(--button-hover-fill-color);\n",
              "  }\n",
              "\n",
              "  .colab-df-quickchart-complete:disabled,\n",
              "  .colab-df-quickchart-complete:disabled:hover {\n",
              "    background-color: var(--disabled-bg-color);\n",
              "    fill: var(--disabled-fill-color);\n",
              "    box-shadow: none;\n",
              "  }\n",
              "\n",
              "  .colab-df-spinner {\n",
              "    border: 2px solid var(--fill-color);\n",
              "    border-color: transparent;\n",
              "    border-bottom-color: var(--fill-color);\n",
              "    animation:\n",
              "      spin 1s steps(1) infinite;\n",
              "  }\n",
              "\n",
              "  @keyframes spin {\n",
              "    0% {\n",
              "      border-color: transparent;\n",
              "      border-bottom-color: var(--fill-color);\n",
              "      border-left-color: var(--fill-color);\n",
              "    }\n",
              "    20% {\n",
              "      border-color: transparent;\n",
              "      border-left-color: var(--fill-color);\n",
              "      border-top-color: var(--fill-color);\n",
              "    }\n",
              "    30% {\n",
              "      border-color: transparent;\n",
              "      border-left-color: var(--fill-color);\n",
              "      border-top-color: var(--fill-color);\n",
              "      border-right-color: var(--fill-color);\n",
              "    }\n",
              "    40% {\n",
              "      border-color: transparent;\n",
              "      border-right-color: var(--fill-color);\n",
              "      border-top-color: var(--fill-color);\n",
              "    }\n",
              "    60% {\n",
              "      border-color: transparent;\n",
              "      border-right-color: var(--fill-color);\n",
              "    }\n",
              "    80% {\n",
              "      border-color: transparent;\n",
              "      border-right-color: var(--fill-color);\n",
              "      border-bottom-color: var(--fill-color);\n",
              "    }\n",
              "    90% {\n",
              "      border-color: transparent;\n",
              "      border-bottom-color: var(--fill-color);\n",
              "    }\n",
              "  }\n",
              "</style>\n",
              "\n",
              "  <script>\n",
              "    async function quickchart(key) {\n",
              "      const quickchartButtonEl =\n",
              "        document.querySelector('#' + key + ' button');\n",
              "      quickchartButtonEl.disabled = true;  // To prevent multiple clicks.\n",
              "      quickchartButtonEl.classList.add('colab-df-spinner');\n",
              "      try {\n",
              "        const charts = await google.colab.kernel.invokeFunction(\n",
              "            'suggestCharts', [key], {});\n",
              "      } catch (error) {\n",
              "        console.error('Error during call to suggestCharts:', error);\n",
              "      }\n",
              "      quickchartButtonEl.classList.remove('colab-df-spinner');\n",
              "      quickchartButtonEl.classList.add('colab-df-quickchart-complete');\n",
              "    }\n",
              "    (() => {\n",
              "      let quickchartButtonEl =\n",
              "        document.querySelector('#df-a1409dee-aac1-4a7f-a697-70628516782d button');\n",
              "      quickchartButtonEl.style.display =\n",
              "        google.colab.kernel.accessAllowed ? 'block' : 'none';\n",
              "    })();\n",
              "  </script>\n",
              "</div>\n",
              "\n",
              "    </div>\n",
              "  </div>\n"
            ],
            "application/vnd.google.colaboratory.intrinsic+json": {
              "type": "dataframe",
              "variable_name": "combined_df"
            }
          },
          "metadata": {},
          "execution_count": 69
        }
      ]
    },
    {
      "cell_type": "code",
      "source": [
        "combined_df[\"inlet\"]=1.00"
      ],
      "metadata": {
        "id": "Q3sO6zub365U"
      },
      "execution_count": null,
      "outputs": []
    },
    {
      "cell_type": "code",
      "source": [
        "combined_df.to_csv(\"/content/drive/MyDrive/Classroom/data_train_pinn.csv\")\n"
      ],
      "metadata": {
        "id": "zqqJEByZ7P_c"
      },
      "execution_count": null,
      "outputs": []
    },
    {
      "cell_type": "code",
      "source": [
        "combined_df=pd.read_csv(\"/content/drive/MyDrive/Classroom/data_train_pinn.csv\")"
      ],
      "metadata": {
        "id": "wCwh_fvHNYl-"
      },
      "execution_count": null,
      "outputs": []
    },
    {
      "cell_type": "code",
      "source": [
        "# prompt: make a new dataframe X taking x,y,t all the enc_boundary columns from combined_df\n",
        "\n",
        "df_X = combined_df[['x', 'y', 't'] + [f\"enc_boundary_{i}\" for i in range(0, 60)]]\n",
        "df_Y = combined_df[['x', 'y', 't', \"BCN\", \"inlet\"]]"
      ],
      "metadata": {
        "id": "ya9qio2B40Qo"
      },
      "execution_count": null,
      "outputs": []
    },
    {
      "cell_type": "code",
      "source": [
        "df_X.shape[0],df_Y.shape[0]"
      ],
      "metadata": {
        "colab": {
          "base_uri": "https://localhost:8080/"
        },
        "id": "rUqrQ1-h5y5s",
        "outputId": "2b6e03ea-e108-49dc-ec8a-10d0f0d27c6a"
      },
      "execution_count": null,
      "outputs": [
        {
          "output_type": "execute_result",
          "data": {
            "text/plain": [
              "(354640, 354640)"
            ]
          },
          "metadata": {},
          "execution_count": 74
        }
      ]
    },
    {
      "cell_type": "code",
      "source": [
        "'''\n",
        "PINN\n",
        "'''\n",
        "'''\n",
        "This is the PINN+the model that predicts the functions B and C which sir asked\n",
        "'''\n",
        "class PhysicsInformedNN:\n",
        "    def __init__(self, layers1, layers2):\n",
        "        self.layers1 = layers1#These are the units of the main PINN\n",
        "        self.layers2 = layers2#These are the units of the 2nd ANN for B and C\n",
        "        self.lambda_1 = 1.0\n",
        "        self.lambda_2 = 0.01\n",
        "        self.optimizer = tf.keras.optimizers.Adam(learning_rate=1e-3)\n",
        "        self.build_model()#This function builds/compiles the model\n",
        "\n",
        "    def build_model(self):\n",
        "        inputs1 = Input(shape=(63,))#Inputs for pinn including 3 x,y,t and 60 columns for encoded vector\n",
        "        inputs2 = Input(shape=(5,))#the x,y,t,result of BCN,inflow speed\n",
        "        x = inputs1#takes the imputs of the pinn\n",
        "        for i in range(len(self.layers1) - 2):\n",
        "            x = Dense(self.layers1[i+1], activation='tanh')(x)#keras dense layers of pinn\n",
        "        u_v_p = Dense(self.layers1[-1])(x)#gives the output of the pinn\n",
        "        u = u_v_p[:, 0:1]\n",
        "        v = u_v_p[:, 1:2]\n",
        "        p = u_v_p[:, 2:3]\n",
        "        y = Concatenate()([inputs2, u, v, p])#now we join x,y,t,BCN,inflow speed with predicted u,v,p\n",
        "        for i in range(len(self.layers2) - 2):\n",
        "            y = Dense(self.layers2[i+1], activation='tanh')(y)#passing the 2nd inputs through the ANN to predict B and C relations\n",
        "        outputs2 = Dense(self.layers2[-1])(y)# Gives final outputs u,v,p\n",
        "        self.model = Model(inputs=[inputs1, inputs2], outputs=outputs2) #Model building process\n",
        "\n",
        "    def loss_function(self, inputs, u_true, v_true, p_true): #Loss function of PINN+2nd ANN\n",
        "        X, Y = inputs\n",
        "        with tf.GradientTape(persistent=True) as tape:\n",
        "            tape.watch(X)#we are keeping track of x,y,t\n",
        "            predictions = self.model([X, Y])#Making the predictions\n",
        "            u_pred = predictions[:, 0:1]\n",
        "            v_pred = predictions[:, 1:2]\n",
        "            p_pred = predictions[:, 2:3]\n",
        "            '''\n",
        "            Next few lines calculate the gradients\n",
        "            '''\n",
        "            u_t = tape.gradient(u_pred, X)[:, 2:3]\n",
        "            u_x = tape.gradient(u_pred, X)[:, 0:1]\n",
        "            u_y = tape.gradient(u_pred, X)[:, 1:2]\n",
        "\n",
        "            v_t = tape.gradient(v_pred, X)[:, 2:3]\n",
        "            v_x = tape.gradient(v_pred, X)[:, 0:1]\n",
        "            v_y = tape.gradient(v_pred, X)[:, 1:2]\n",
        "\n",
        "            p_x = tape.gradient(p_pred, X)[:, 0:1]\n",
        "            p_y = tape.gradient(p_pred, X)[:, 1:2]\n",
        "        '''\n",
        "        since we already have the relations of u with t etc we can calulate the 2nd order gradients outside the tracking here\n",
        "        '''\n",
        "        u_xx = tape.gradient(u_x, X)[:, 0:1]\n",
        "        u_yy = tape.gradient(u_y, X)[:, 1:2]\n",
        "        v_xx = tape.gradient(v_x, X)[:, 0:1]\n",
        "        v_yy = tape.gradient(v_y, X)[:, 1:2]\n",
        "        '''\n",
        "        The differential equations. We have included the continuity one as well as potential would be very hard in our case\n",
        "        '''\n",
        "        f = u_t + self.lambda_1 * (u_pred * u_x + v_pred * u_y) + p_x + self.lambda_2 * (u_xx + u_yy)\n",
        "        g = v_t + self.lambda_1 * (u_pred * v_x + v_pred * v_y) + p_y + self.lambda_2 * (v_xx + v_yy)\n",
        "        h = u_x + v_y\n",
        "        #The losses\n",
        "        mse_loss = tf.reduce_sum(tf.square(u_true - u_pred)) + tf.reduce_sum(tf.square(v_true - v_pred)) + tf.reduce_sum(tf.square(p_true - p_pred))\n",
        "        phys_loss = tf.reduce_sum(tf.square(f)) + tf.reduce_sum(tf.square(g)) + tf.reduce_sum(tf.square(h))\n",
        "\n",
        "        total_loss = mse_loss + phys_loss\n",
        "\n",
        "        return total_loss\n",
        "\n",
        "    @tf.function#This increases and accuracy of tensorflow operation\n",
        "    def train_step(self, X, Y, u_true, v_true, p_true):#Defines each step of training\n",
        "        #the below process I have explained in the SEN part\n",
        "        with tf.GradientTape() as tape:\n",
        "            loss = self.loss_function([X, Y], u_true, v_true, p_true)\n",
        "\n",
        "        gradients = tape.gradient(loss, self.model.trainable_variables)\n",
        "        self.optimizer.apply_gradients(zip(gradients, self.model.trainable_variables))\n",
        "        return loss\n",
        "\n",
        "    def train(self, X, Y, u_true, v_true, p_true, epochs):\n",
        "        #full training loop with printing the loss\n",
        "        time1=time.time()\n",
        "        time3=time1\n",
        "        for epoch in range(epochs):\n",
        "            self.train_step(X, Y, u_true, v_true, p_true)\n",
        "            if epoch % 100 == 0:\n",
        "                loss = self.loss_function([X, Y], u_true, v_true, p_true)\n",
        "                time2=time.time()\n",
        "                print(f'Epoch {epoch}, Loss: {loss.numpy()}, time {time2-time3}')\n",
        "                time3=time2#loss.numpy() has been proposed by colab for an error I was encountering\n",
        "\n",
        "layers1 = [80, 80, 80, 80, 80, 80, 80, 3]#Here you can change the defination of the PINN\n",
        "layers2 = [8, 256, 128, 64, 3]#Here for the function approximating B and C\n",
        "model = PhysicsInformedNN(layers1, layers2) #Calling the model\n",
        "\n",
        "'''\n",
        "Creation of dummy data with uniform distribution\n",
        "'''\n",
        "#X = tf.random.uniform([10000, 63], -1, 1)\n",
        "X=tf.convert_to_tensor(df_X,dtype=tf.float32)\n",
        "Y=tf.convert_to_tensor(df_Y,dtype=tf.float32)\n",
        "u_true = tf.convert_to_tensor(combined_df['u'],dtype=tf.float32)\n",
        "v_true = tf.convert_to_tensor(combined_df['v'],dtype=tf.float32)\n",
        "p_true = tf.convert_to_tensor(combined_df['p'],dtype=tf.float32)\n",
        "#u_true = tf.random.uniform([240000, 1], -1, 1)\n",
        "#v_true = tf.random.uniform([240000, 1], -1, 1)\n",
        "#p_true = tf.random.uniform([240000, 1], -1, 1)\n",
        "\n",
        "# Get the number of data points\n",
        "\n",
        "# Generate a list of random indices\n",
        "random_indices = random.sample(range(354640), 10000)\n",
        "# Extract the data for the random indices\n",
        "X_5000 = tf.gather(X, random_indices)\n",
        "Y_5000 = tf.gather(Y, random_indices)\n",
        "u_true_5000 = tf.gather(u_true, random_indices)\n",
        "v_true_5000 = tf.gather(v_true, random_indices)\n",
        "p_true_5000 = tf.gather(p_true, random_indices)\n",
        "\n",
        "model.train(X_5000, Y_5000, u_true_5000, v_true_5000, p_true_5000, epochs=10000)#Training command\n"
      ],
      "metadata": {
        "id": "O0GgXbf9XQxK",
        "colab": {
          "base_uri": "https://localhost:8080/",
          "height": 549
        },
        "outputId": "564b77e4-2ca9-4f27-b35c-b74438dc1aba"
      },
      "execution_count": null,
      "outputs": [
        {
          "output_type": "stream",
          "name": "stderr",
          "text": [
            "WARNING:tensorflow:Calling GradientTape.gradient on a persistent tape inside its context is significantly less efficient than calling it outside the context (it causes the gradient ops to be recorded on the tape, leading to increased CPU and memory usage). Only call GradientTape.gradient inside the context if you actually want to trace the gradient in order to compute higher order derivatives.\n",
            "WARNING:tensorflow:Calling GradientTape.gradient on a persistent tape inside its context is significantly less efficient than calling it outside the context (it causes the gradient ops to be recorded on the tape, leading to increased CPU and memory usage). Only call GradientTape.gradient inside the context if you actually want to trace the gradient in order to compute higher order derivatives.\n",
            "WARNING:tensorflow:Calling GradientTape.gradient on a persistent tape inside its context is significantly less efficient than calling it outside the context (it causes the gradient ops to be recorded on the tape, leading to increased CPU and memory usage). Only call GradientTape.gradient inside the context if you actually want to trace the gradient in order to compute higher order derivatives.\n",
            "WARNING:tensorflow:Calling GradientTape.gradient on a persistent tape inside its context is significantly less efficient than calling it outside the context (it causes the gradient ops to be recorded on the tape, leading to increased CPU and memory usage). Only call GradientTape.gradient inside the context if you actually want to trace the gradient in order to compute higher order derivatives.\n",
            "WARNING:tensorflow:Calling GradientTape.gradient on a persistent tape inside its context is significantly less efficient than calling it outside the context (it causes the gradient ops to be recorded on the tape, leading to increased CPU and memory usage). Only call GradientTape.gradient inside the context if you actually want to trace the gradient in order to compute higher order derivatives.\n",
            "WARNING:tensorflow:Calling GradientTape.gradient on a persistent tape inside its context is significantly less efficient than calling it outside the context (it causes the gradient ops to be recorded on the tape, leading to increased CPU and memory usage). Only call GradientTape.gradient inside the context if you actually want to trace the gradient in order to compute higher order derivatives.\n",
            "WARNING:tensorflow:Calling GradientTape.gradient on a persistent tape inside its context is significantly less efficient than calling it outside the context (it causes the gradient ops to be recorded on the tape, leading to increased CPU and memory usage). Only call GradientTape.gradient inside the context if you actually want to trace the gradient in order to compute higher order derivatives.\n",
            "WARNING:tensorflow:Calling GradientTape.gradient on a persistent tape inside its context is significantly less efficient than calling it outside the context (it causes the gradient ops to be recorded on the tape, leading to increased CPU and memory usage). Only call GradientTape.gradient inside the context if you actually want to trace the gradient in order to compute higher order derivatives.\n",
            "WARNING:tensorflow:Calling GradientTape.gradient on a persistent tape inside its context is significantly less efficient than calling it outside the context (it causes the gradient ops to be recorded on the tape, leading to increased CPU and memory usage). Only call GradientTape.gradient inside the context if you actually want to trace the gradient in order to compute higher order derivatives.\n"
          ]
        },
        {
          "output_type": "stream",
          "name": "stdout",
          "text": [
            "Epoch 0, Loss: 0.5148015022277832, time 11.848099708557129\n",
            "Epoch 100, Loss: 0.30901244282722473, time 27.370105743408203\n",
            "Epoch 200, Loss: 0.3085295259952545, time 26.837631464004517\n"
          ]
        },
        {
          "output_type": "error",
          "ename": "KeyboardInterrupt",
          "evalue": "",
          "traceback": [
            "\u001b[0;31m---------------------------------------------------------------------------\u001b[0m",
            "\u001b[0;31mKeyboardInterrupt\u001b[0m                         Traceback (most recent call last)",
            "\u001b[0;32m<ipython-input-8-115e3991b5c5>\u001b[0m in \u001b[0;36m<cell line: 123>\u001b[0;34m()\u001b[0m\n\u001b[1;32m    121\u001b[0m \u001b[0mp_true_5000\u001b[0m \u001b[0;34m=\u001b[0m \u001b[0mtf\u001b[0m\u001b[0;34m.\u001b[0m\u001b[0mgather\u001b[0m\u001b[0;34m(\u001b[0m\u001b[0mp_true\u001b[0m\u001b[0;34m,\u001b[0m \u001b[0mrandom_indices\u001b[0m\u001b[0;34m)\u001b[0m\u001b[0;34m\u001b[0m\u001b[0;34m\u001b[0m\u001b[0m\n\u001b[1;32m    122\u001b[0m \u001b[0;34m\u001b[0m\u001b[0m\n\u001b[0;32m--> 123\u001b[0;31m \u001b[0mmodel\u001b[0m\u001b[0;34m.\u001b[0m\u001b[0mtrain\u001b[0m\u001b[0;34m(\u001b[0m\u001b[0mX_5000\u001b[0m\u001b[0;34m,\u001b[0m \u001b[0mY_5000\u001b[0m\u001b[0;34m,\u001b[0m \u001b[0mu_true_5000\u001b[0m\u001b[0;34m,\u001b[0m \u001b[0mv_true_5000\u001b[0m\u001b[0;34m,\u001b[0m \u001b[0mp_true_5000\u001b[0m\u001b[0;34m,\u001b[0m \u001b[0mepochs\u001b[0m\u001b[0;34m=\u001b[0m\u001b[0;36m10000\u001b[0m\u001b[0;34m)\u001b[0m\u001b[0;31m#Training command\u001b[0m\u001b[0;34m\u001b[0m\u001b[0;34m\u001b[0m\u001b[0m\n\u001b[0m",
            "\u001b[0;32m<ipython-input-8-115e3991b5c5>\u001b[0m in \u001b[0;36mtrain\u001b[0;34m(self, X, Y, u_true, v_true, p_true, epochs)\u001b[0m\n\u001b[1;32m     86\u001b[0m         \u001b[0mtime3\u001b[0m\u001b[0;34m=\u001b[0m\u001b[0mtime1\u001b[0m\u001b[0;34m\u001b[0m\u001b[0;34m\u001b[0m\u001b[0m\n\u001b[1;32m     87\u001b[0m         \u001b[0;32mfor\u001b[0m \u001b[0mepoch\u001b[0m \u001b[0;32min\u001b[0m \u001b[0mrange\u001b[0m\u001b[0;34m(\u001b[0m\u001b[0mepochs\u001b[0m\u001b[0;34m)\u001b[0m\u001b[0;34m:\u001b[0m\u001b[0;34m\u001b[0m\u001b[0;34m\u001b[0m\u001b[0m\n\u001b[0;32m---> 88\u001b[0;31m             \u001b[0mself\u001b[0m\u001b[0;34m.\u001b[0m\u001b[0mtrain_step\u001b[0m\u001b[0;34m(\u001b[0m\u001b[0mX\u001b[0m\u001b[0;34m,\u001b[0m \u001b[0mY\u001b[0m\u001b[0;34m,\u001b[0m \u001b[0mu_true\u001b[0m\u001b[0;34m,\u001b[0m \u001b[0mv_true\u001b[0m\u001b[0;34m,\u001b[0m \u001b[0mp_true\u001b[0m\u001b[0;34m)\u001b[0m\u001b[0;34m\u001b[0m\u001b[0;34m\u001b[0m\u001b[0m\n\u001b[0m\u001b[1;32m     89\u001b[0m             \u001b[0;32mif\u001b[0m \u001b[0mepoch\u001b[0m \u001b[0;34m%\u001b[0m \u001b[0;36m100\u001b[0m \u001b[0;34m==\u001b[0m \u001b[0;36m0\u001b[0m\u001b[0;34m:\u001b[0m\u001b[0;34m\u001b[0m\u001b[0;34m\u001b[0m\u001b[0m\n\u001b[1;32m     90\u001b[0m                 \u001b[0mloss\u001b[0m \u001b[0;34m=\u001b[0m \u001b[0mself\u001b[0m\u001b[0;34m.\u001b[0m\u001b[0mloss_function\u001b[0m\u001b[0;34m(\u001b[0m\u001b[0;34m[\u001b[0m\u001b[0mX\u001b[0m\u001b[0;34m,\u001b[0m \u001b[0mY\u001b[0m\u001b[0;34m]\u001b[0m\u001b[0;34m,\u001b[0m \u001b[0mu_true\u001b[0m\u001b[0;34m,\u001b[0m \u001b[0mv_true\u001b[0m\u001b[0;34m,\u001b[0m \u001b[0mp_true\u001b[0m\u001b[0;34m)\u001b[0m\u001b[0;34m\u001b[0m\u001b[0;34m\u001b[0m\u001b[0m\n",
            "\u001b[0;32m/usr/local/lib/python3.10/dist-packages/tensorflow/python/util/traceback_utils.py\u001b[0m in \u001b[0;36merror_handler\u001b[0;34m(*args, **kwargs)\u001b[0m\n\u001b[1;32m    148\u001b[0m     \u001b[0mfiltered_tb\u001b[0m \u001b[0;34m=\u001b[0m \u001b[0;32mNone\u001b[0m\u001b[0;34m\u001b[0m\u001b[0;34m\u001b[0m\u001b[0m\n\u001b[1;32m    149\u001b[0m     \u001b[0;32mtry\u001b[0m\u001b[0;34m:\u001b[0m\u001b[0;34m\u001b[0m\u001b[0;34m\u001b[0m\u001b[0m\n\u001b[0;32m--> 150\u001b[0;31m       \u001b[0;32mreturn\u001b[0m \u001b[0mfn\u001b[0m\u001b[0;34m(\u001b[0m\u001b[0;34m*\u001b[0m\u001b[0margs\u001b[0m\u001b[0;34m,\u001b[0m \u001b[0;34m**\u001b[0m\u001b[0mkwargs\u001b[0m\u001b[0;34m)\u001b[0m\u001b[0;34m\u001b[0m\u001b[0;34m\u001b[0m\u001b[0m\n\u001b[0m\u001b[1;32m    151\u001b[0m     \u001b[0;32mexcept\u001b[0m \u001b[0mException\u001b[0m \u001b[0;32mas\u001b[0m \u001b[0me\u001b[0m\u001b[0;34m:\u001b[0m\u001b[0;34m\u001b[0m\u001b[0;34m\u001b[0m\u001b[0m\n\u001b[1;32m    152\u001b[0m       \u001b[0mfiltered_tb\u001b[0m \u001b[0;34m=\u001b[0m \u001b[0m_process_traceback_frames\u001b[0m\u001b[0;34m(\u001b[0m\u001b[0me\u001b[0m\u001b[0;34m.\u001b[0m\u001b[0m__traceback__\u001b[0m\u001b[0;34m)\u001b[0m\u001b[0;34m\u001b[0m\u001b[0;34m\u001b[0m\u001b[0m\n",
            "\u001b[0;32m/usr/local/lib/python3.10/dist-packages/tensorflow/python/eager/polymorphic_function/polymorphic_function.py\u001b[0m in \u001b[0;36m__call__\u001b[0;34m(self, *args, **kwds)\u001b[0m\n\u001b[1;32m    830\u001b[0m \u001b[0;34m\u001b[0m\u001b[0m\n\u001b[1;32m    831\u001b[0m       \u001b[0;32mwith\u001b[0m \u001b[0mOptionalXlaContext\u001b[0m\u001b[0;34m(\u001b[0m\u001b[0mself\u001b[0m\u001b[0;34m.\u001b[0m\u001b[0m_jit_compile\u001b[0m\u001b[0;34m)\u001b[0m\u001b[0;34m:\u001b[0m\u001b[0;34m\u001b[0m\u001b[0;34m\u001b[0m\u001b[0m\n\u001b[0;32m--> 832\u001b[0;31m         \u001b[0mresult\u001b[0m \u001b[0;34m=\u001b[0m \u001b[0mself\u001b[0m\u001b[0;34m.\u001b[0m\u001b[0m_call\u001b[0m\u001b[0;34m(\u001b[0m\u001b[0;34m*\u001b[0m\u001b[0margs\u001b[0m\u001b[0;34m,\u001b[0m \u001b[0;34m**\u001b[0m\u001b[0mkwds\u001b[0m\u001b[0;34m)\u001b[0m\u001b[0;34m\u001b[0m\u001b[0;34m\u001b[0m\u001b[0m\n\u001b[0m\u001b[1;32m    833\u001b[0m \u001b[0;34m\u001b[0m\u001b[0m\n\u001b[1;32m    834\u001b[0m       \u001b[0mnew_tracing_count\u001b[0m \u001b[0;34m=\u001b[0m \u001b[0mself\u001b[0m\u001b[0;34m.\u001b[0m\u001b[0mexperimental_get_tracing_count\u001b[0m\u001b[0;34m(\u001b[0m\u001b[0;34m)\u001b[0m\u001b[0;34m\u001b[0m\u001b[0;34m\u001b[0m\u001b[0m\n",
            "\u001b[0;32m/usr/local/lib/python3.10/dist-packages/tensorflow/python/eager/polymorphic_function/polymorphic_function.py\u001b[0m in \u001b[0;36m_call\u001b[0;34m(self, *args, **kwds)\u001b[0m\n\u001b[1;32m    866\u001b[0m       \u001b[0;31m# In this case we have created variables on the first call, so we run the\u001b[0m\u001b[0;34m\u001b[0m\u001b[0;34m\u001b[0m\u001b[0m\n\u001b[1;32m    867\u001b[0m       \u001b[0;31m# defunned version which is guaranteed to never create variables.\u001b[0m\u001b[0;34m\u001b[0m\u001b[0;34m\u001b[0m\u001b[0m\n\u001b[0;32m--> 868\u001b[0;31m       return tracing_compilation.call_function(\n\u001b[0m\u001b[1;32m    869\u001b[0m           \u001b[0margs\u001b[0m\u001b[0;34m,\u001b[0m \u001b[0mkwds\u001b[0m\u001b[0;34m,\u001b[0m \u001b[0mself\u001b[0m\u001b[0;34m.\u001b[0m\u001b[0m_no_variable_creation_config\u001b[0m\u001b[0;34m\u001b[0m\u001b[0;34m\u001b[0m\u001b[0m\n\u001b[1;32m    870\u001b[0m       )\n",
            "\u001b[0;32m/usr/local/lib/python3.10/dist-packages/tensorflow/python/eager/polymorphic_function/tracing_compilation.py\u001b[0m in \u001b[0;36mcall_function\u001b[0;34m(args, kwargs, tracing_options)\u001b[0m\n\u001b[1;32m    137\u001b[0m   \u001b[0mbound_args\u001b[0m \u001b[0;34m=\u001b[0m \u001b[0mfunction\u001b[0m\u001b[0;34m.\u001b[0m\u001b[0mfunction_type\u001b[0m\u001b[0;34m.\u001b[0m\u001b[0mbind\u001b[0m\u001b[0;34m(\u001b[0m\u001b[0;34m*\u001b[0m\u001b[0margs\u001b[0m\u001b[0;34m,\u001b[0m \u001b[0;34m**\u001b[0m\u001b[0mkwargs\u001b[0m\u001b[0;34m)\u001b[0m\u001b[0;34m\u001b[0m\u001b[0;34m\u001b[0m\u001b[0m\n\u001b[1;32m    138\u001b[0m   \u001b[0mflat_inputs\u001b[0m \u001b[0;34m=\u001b[0m \u001b[0mfunction\u001b[0m\u001b[0;34m.\u001b[0m\u001b[0mfunction_type\u001b[0m\u001b[0;34m.\u001b[0m\u001b[0munpack_inputs\u001b[0m\u001b[0;34m(\u001b[0m\u001b[0mbound_args\u001b[0m\u001b[0;34m)\u001b[0m\u001b[0;34m\u001b[0m\u001b[0;34m\u001b[0m\u001b[0m\n\u001b[0;32m--> 139\u001b[0;31m   return function._call_flat(  # pylint: disable=protected-access\n\u001b[0m\u001b[1;32m    140\u001b[0m       \u001b[0mflat_inputs\u001b[0m\u001b[0;34m,\u001b[0m \u001b[0mcaptured_inputs\u001b[0m\u001b[0;34m=\u001b[0m\u001b[0mfunction\u001b[0m\u001b[0;34m.\u001b[0m\u001b[0mcaptured_inputs\u001b[0m\u001b[0;34m\u001b[0m\u001b[0;34m\u001b[0m\u001b[0m\n\u001b[1;32m    141\u001b[0m   )\n",
            "\u001b[0;32m/usr/local/lib/python3.10/dist-packages/tensorflow/python/eager/polymorphic_function/concrete_function.py\u001b[0m in \u001b[0;36m_call_flat\u001b[0;34m(self, tensor_inputs, captured_inputs)\u001b[0m\n\u001b[1;32m   1321\u001b[0m         and executing_eagerly):\n\u001b[1;32m   1322\u001b[0m       \u001b[0;31m# No tape is watching; skip to running the function.\u001b[0m\u001b[0;34m\u001b[0m\u001b[0;34m\u001b[0m\u001b[0m\n\u001b[0;32m-> 1323\u001b[0;31m       \u001b[0;32mreturn\u001b[0m \u001b[0mself\u001b[0m\u001b[0;34m.\u001b[0m\u001b[0m_inference_function\u001b[0m\u001b[0;34m.\u001b[0m\u001b[0mcall_preflattened\u001b[0m\u001b[0;34m(\u001b[0m\u001b[0margs\u001b[0m\u001b[0;34m)\u001b[0m\u001b[0;34m\u001b[0m\u001b[0;34m\u001b[0m\u001b[0m\n\u001b[0m\u001b[1;32m   1324\u001b[0m     forward_backward = self._select_forward_and_backward_functions(\n\u001b[1;32m   1325\u001b[0m         \u001b[0margs\u001b[0m\u001b[0;34m,\u001b[0m\u001b[0;34m\u001b[0m\u001b[0;34m\u001b[0m\u001b[0m\n",
            "\u001b[0;32m/usr/local/lib/python3.10/dist-packages/tensorflow/python/eager/polymorphic_function/atomic_function.py\u001b[0m in \u001b[0;36mcall_preflattened\u001b[0;34m(self, args)\u001b[0m\n\u001b[1;32m    214\u001b[0m   \u001b[0;32mdef\u001b[0m \u001b[0mcall_preflattened\u001b[0m\u001b[0;34m(\u001b[0m\u001b[0mself\u001b[0m\u001b[0;34m,\u001b[0m \u001b[0margs\u001b[0m\u001b[0;34m:\u001b[0m \u001b[0mSequence\u001b[0m\u001b[0;34m[\u001b[0m\u001b[0mcore\u001b[0m\u001b[0;34m.\u001b[0m\u001b[0mTensor\u001b[0m\u001b[0;34m]\u001b[0m\u001b[0;34m)\u001b[0m \u001b[0;34m->\u001b[0m \u001b[0mAny\u001b[0m\u001b[0;34m:\u001b[0m\u001b[0;34m\u001b[0m\u001b[0;34m\u001b[0m\u001b[0m\n\u001b[1;32m    215\u001b[0m     \u001b[0;34m\"\"\"Calls with flattened tensor inputs and returns the structured output.\"\"\"\u001b[0m\u001b[0;34m\u001b[0m\u001b[0;34m\u001b[0m\u001b[0m\n\u001b[0;32m--> 216\u001b[0;31m     \u001b[0mflat_outputs\u001b[0m \u001b[0;34m=\u001b[0m \u001b[0mself\u001b[0m\u001b[0;34m.\u001b[0m\u001b[0mcall_flat\u001b[0m\u001b[0;34m(\u001b[0m\u001b[0;34m*\u001b[0m\u001b[0margs\u001b[0m\u001b[0;34m)\u001b[0m\u001b[0;34m\u001b[0m\u001b[0;34m\u001b[0m\u001b[0m\n\u001b[0m\u001b[1;32m    217\u001b[0m     \u001b[0;32mreturn\u001b[0m \u001b[0mself\u001b[0m\u001b[0;34m.\u001b[0m\u001b[0mfunction_type\u001b[0m\u001b[0;34m.\u001b[0m\u001b[0mpack_output\u001b[0m\u001b[0;34m(\u001b[0m\u001b[0mflat_outputs\u001b[0m\u001b[0;34m)\u001b[0m\u001b[0;34m\u001b[0m\u001b[0;34m\u001b[0m\u001b[0m\n\u001b[1;32m    218\u001b[0m \u001b[0;34m\u001b[0m\u001b[0m\n",
            "\u001b[0;32m/usr/local/lib/python3.10/dist-packages/tensorflow/python/eager/polymorphic_function/atomic_function.py\u001b[0m in \u001b[0;36mcall_flat\u001b[0;34m(self, *args)\u001b[0m\n\u001b[1;32m    249\u001b[0m         \u001b[0;32mwith\u001b[0m \u001b[0mrecord\u001b[0m\u001b[0;34m.\u001b[0m\u001b[0mstop_recording\u001b[0m\u001b[0;34m(\u001b[0m\u001b[0;34m)\u001b[0m\u001b[0;34m:\u001b[0m\u001b[0;34m\u001b[0m\u001b[0;34m\u001b[0m\u001b[0m\n\u001b[1;32m    250\u001b[0m           \u001b[0;32mif\u001b[0m \u001b[0mself\u001b[0m\u001b[0;34m.\u001b[0m\u001b[0m_bound_context\u001b[0m\u001b[0;34m.\u001b[0m\u001b[0mexecuting_eagerly\u001b[0m\u001b[0;34m(\u001b[0m\u001b[0;34m)\u001b[0m\u001b[0;34m:\u001b[0m\u001b[0;34m\u001b[0m\u001b[0;34m\u001b[0m\u001b[0m\n\u001b[0;32m--> 251\u001b[0;31m             outputs = self._bound_context.call_function(\n\u001b[0m\u001b[1;32m    252\u001b[0m                 \u001b[0mself\u001b[0m\u001b[0;34m.\u001b[0m\u001b[0mname\u001b[0m\u001b[0;34m,\u001b[0m\u001b[0;34m\u001b[0m\u001b[0;34m\u001b[0m\u001b[0m\n\u001b[1;32m    253\u001b[0m                 \u001b[0mlist\u001b[0m\u001b[0;34m(\u001b[0m\u001b[0margs\u001b[0m\u001b[0;34m)\u001b[0m\u001b[0;34m,\u001b[0m\u001b[0;34m\u001b[0m\u001b[0;34m\u001b[0m\u001b[0m\n",
            "\u001b[0;32m/usr/local/lib/python3.10/dist-packages/tensorflow/python/eager/context.py\u001b[0m in \u001b[0;36mcall_function\u001b[0;34m(self, name, tensor_inputs, num_outputs)\u001b[0m\n\u001b[1;32m   1484\u001b[0m     \u001b[0mcancellation_context\u001b[0m \u001b[0;34m=\u001b[0m \u001b[0mcancellation\u001b[0m\u001b[0;34m.\u001b[0m\u001b[0mcontext\u001b[0m\u001b[0;34m(\u001b[0m\u001b[0;34m)\u001b[0m\u001b[0;34m\u001b[0m\u001b[0;34m\u001b[0m\u001b[0m\n\u001b[1;32m   1485\u001b[0m     \u001b[0;32mif\u001b[0m \u001b[0mcancellation_context\u001b[0m \u001b[0;32mis\u001b[0m \u001b[0;32mNone\u001b[0m\u001b[0;34m:\u001b[0m\u001b[0;34m\u001b[0m\u001b[0;34m\u001b[0m\u001b[0m\n\u001b[0;32m-> 1486\u001b[0;31m       outputs = execute.execute(\n\u001b[0m\u001b[1;32m   1487\u001b[0m           \u001b[0mname\u001b[0m\u001b[0;34m.\u001b[0m\u001b[0mdecode\u001b[0m\u001b[0;34m(\u001b[0m\u001b[0;34m\"utf-8\"\u001b[0m\u001b[0;34m)\u001b[0m\u001b[0;34m,\u001b[0m\u001b[0;34m\u001b[0m\u001b[0;34m\u001b[0m\u001b[0m\n\u001b[1;32m   1488\u001b[0m           \u001b[0mnum_outputs\u001b[0m\u001b[0;34m=\u001b[0m\u001b[0mnum_outputs\u001b[0m\u001b[0;34m,\u001b[0m\u001b[0;34m\u001b[0m\u001b[0;34m\u001b[0m\u001b[0m\n",
            "\u001b[0;32m/usr/local/lib/python3.10/dist-packages/tensorflow/python/eager/execute.py\u001b[0m in \u001b[0;36mquick_execute\u001b[0;34m(op_name, num_outputs, inputs, attrs, ctx, name)\u001b[0m\n\u001b[1;32m     51\u001b[0m   \u001b[0;32mtry\u001b[0m\u001b[0;34m:\u001b[0m\u001b[0;34m\u001b[0m\u001b[0;34m\u001b[0m\u001b[0m\n\u001b[1;32m     52\u001b[0m     \u001b[0mctx\u001b[0m\u001b[0;34m.\u001b[0m\u001b[0mensure_initialized\u001b[0m\u001b[0;34m(\u001b[0m\u001b[0;34m)\u001b[0m\u001b[0;34m\u001b[0m\u001b[0;34m\u001b[0m\u001b[0m\n\u001b[0;32m---> 53\u001b[0;31m     tensors = pywrap_tfe.TFE_Py_Execute(ctx._handle, device_name, op_name,\n\u001b[0m\u001b[1;32m     54\u001b[0m                                         inputs, attrs, num_outputs)\n\u001b[1;32m     55\u001b[0m   \u001b[0;32mexcept\u001b[0m \u001b[0mcore\u001b[0m\u001b[0;34m.\u001b[0m\u001b[0m_NotOkStatusException\u001b[0m \u001b[0;32mas\u001b[0m \u001b[0me\u001b[0m\u001b[0;34m:\u001b[0m\u001b[0;34m\u001b[0m\u001b[0;34m\u001b[0m\u001b[0m\n",
            "\u001b[0;31mKeyboardInterrupt\u001b[0m: "
          ]
        }
      ]
    },
    {
      "cell_type": "code",
      "source": [
        "import tensorflow as tf\n",
        "import numpy as np\n",
        "from scipy.optimize import minimize\n",
        "from tensorflow.keras.layers import Input, Dense, Concatenate\n",
        "from tensorflow.keras.models import Model\n",
        "\n",
        "class PhysicsInformedNN:\n",
        "    def __init__(self, layers1, layers2):\n",
        "        self.layers1 = layers1  # Units of the main PINN\n",
        "        self.layers2 = layers2  # Units of the 2nd ANN for B and C\n",
        "        self.lambda_1 = 1.0\n",
        "        self.lambda_2 = 0.01\n",
        "        self.build_model()\n",
        "\n",
        "    def build_model(self):\n",
        "        inputs1 = Input(shape=(63,))  # Inputs for PINN\n",
        "        inputs2 = Input(shape=(5,))  # Inputs for 2nd ANN\n",
        "        x = inputs1\n",
        "        for i in range(len(self.layers1) - 2):\n",
        "            x = Dense(self.layers1[i+1], activation='tanh')(x)  # Dense layers of PINN\n",
        "        u_v_p = Dense(self.layers1[-1])(x)\n",
        "        u = u_v_p[:, 0:1]\n",
        "        v = u_v_p[:, 1:2]\n",
        "        p = u_v_p[:, 2:3]\n",
        "        y = Concatenate()([inputs2, u, v, p])\n",
        "        for i in range(len(self.layers2) - 2):\n",
        "            y = Dense(self.layers2[i+1], activation='tanh')(y)  # Dense layers of 2nd ANN\n",
        "        outputs2 = Dense(self.layers2[-1])(y)\n",
        "        self.model = Model(inputs=[inputs1, inputs2], outputs=outputs2)\n",
        "\n",
        "    def loss_function(self, inputs, u_true, v_true, p_true):\n",
        "        X, Y = inputs\n",
        "        with tf.GradientTape(persistent=True) as tape:\n",
        "            tape.watch(X)\n",
        "            predictions = self.model([X, Y])\n",
        "            u_pred = predictions[:, 0:1]\n",
        "            v_pred = predictions[:, 1:2]\n",
        "            p_pred = predictions[:, 2:3]\n",
        "\n",
        "            u_t = tape.gradient(u_pred, X)[:, 2:3]\n",
        "            u_x = tape.gradient(u_pred, X)[:, 0:1]\n",
        "            u_y = tape.gradient(u_pred, X)[:, 1:2]\n",
        "\n",
        "            v_t = tape.gradient(v_pred, X)[:, 2:3]\n",
        "            v_x = tape.gradient(v_pred, X)[:, 0:1]\n",
        "            v_y = tape.gradient(v_pred, X)[:, 1:2]\n",
        "\n",
        "            p_x = tape.gradient(p_pred, X)[:, 0:1]\n",
        "            p_y = tape.gradient(p_pred, X)[:, 1:2]\n",
        "\n",
        "        u_xx = tape.gradient(u_x, X)[:, 0:1]\n",
        "        u_yy = tape.gradient(u_y, X)[:, 1:2]\n",
        "        v_xx = tape.gradient(v_x, X)[:, 0:1]\n",
        "        v_yy = tape.gradient(v_y, X)[:, 1:2]\n",
        "\n",
        "        f = u_t + self.lambda_1 * (u_pred * u_x + v_pred * u_y) + p_x + self.lambda_2 * (u_xx + u_yy)\n",
        "        g = v_t + self.lambda_1 * (u_pred * v_x + v_pred * v_y) + p_y + self.lambda_2 * (v_xx + v_yy)\n",
        "        h = u_x + v_y\n",
        "\n",
        "        mse_loss = tf.reduce_mean(tf.square(u_true - u_pred)) + tf.reduce_mean(tf.square(v_true - v_pred)) + tf.reduce_mean(tf.square(p_true - p_pred))\n",
        "        phys_loss = tf.reduce_mean(tf.square(f)) + tf.reduce_mean(tf.square(g)) + tf.reduce_mean(tf.square(h))\n",
        "\n",
        "        total_loss = mse_loss + phys_loss\n",
        "\n",
        "        return total_loss\n",
        "\n",
        "    def get_weights(self):\n",
        "        weights = []\n",
        "        for layer in self.model.layers:\n",
        "            weights.extend(layer.get_weights())\n",
        "        return np.concatenate([w.flatten() for w in weights])\n",
        "\n",
        "    def set_weights(self, flat_weights):\n",
        "        new_weights = []\n",
        "        start = 0\n",
        "        for layer in self.model.layers:\n",
        "            shapes = [w.shape for w in layer.get_weights()]\n",
        "            sizes = [np.prod(shape) for shape in shapes]\n",
        "            end = start + sum(sizes)\n",
        "            new_weights.append([flat_weights[start:start+size].reshape(shape) for size, shape in zip(sizes, shapes)])\n",
        "            start = end\n",
        "        for layer, new_weight in zip(self.model.layers, new_weights):\n",
        "            layer.set_weights(new_weight)\n",
        "\n",
        "    def loss_and_grads(self, flat_weights, X, Y, u_true, v_true, p_true):\n",
        "        self.set_weights(flat_weights)\n",
        "        with tf.GradientTape() as tape:\n",
        "            loss = self.loss_function([X, Y], u_true, v_true, p_true)\n",
        "        grads = tape.gradient(loss, self.model.trainable_variables)\n",
        "        grads_flat = np.concatenate([tf.reshape(grad, [-1]).numpy() for grad in grads])\n",
        "        return loss.numpy(), grads_flat\n",
        "\n",
        "    def train_lbfgs(self, X, Y, u_true, v_true, p_true):\n",
        "        init_params = self.get_weights()\n",
        "        self.iteration = 0  # Initialize iteration counter\n",
        "\n",
        "        def callback(params):\n",
        "            self.iteration += 1\n",
        "            if self.iteration % 100 == 0:\n",
        "                self.set_weights(params)\n",
        "                loss = self.loss_function([X, Y], u_true, v_true, p_true)\n",
        "                print(f'Iteration {self.iteration}, Loss: {loss.numpy()}')\n",
        "\n",
        "        result = minimize(fun=self.loss_and_grads,\n",
        "                          x0=init_params,\n",
        "                          args=(X, Y, u_true, v_true, p_true),\n",
        "                          method='L-BFGS-B',\n",
        "                          jac=True,\n",
        "                          callback=callback,\n",
        "                          options={'maxiter': 10000, 'disp': True})\n",
        "        self.set_weights(result.x)\n",
        "\n",
        "    def predict(self, X, Y):\n",
        "        return self.model.predict([X, Y])\n",
        "\n",
        "layers1 = [63, 80, 80, 80, 80, 80, 80, 3]  # PINN layers\n",
        "layers2 = [8, 256, 128, 64, 3]  # ANN layers for B and C\n",
        "model = PhysicsInformedNN(layers1, layers2)\n",
        "\n",
        "# Example data (replace with your actual data)\n",
        "X = tf.random.uniform([10000, 63], -1, 1)\n",
        "Y = tf.random.uniform([10000, 5], -1, 1)\n",
        "u_true = tf.random.uniform([10000, 1], -1, 1)\n",
        "v_true = tf.random.uniform([10000, 1], -1, 1)\n",
        "p_true = tf.random.uniform([10000, 1], -1, 1)\n",
        "\n",
        "# Train the model\n",
        "model.train_lbfgs(X, Y, u_true, v_true, p_true)\n",
        "\n",
        "# Example prediction\n",
        "X_test = tf.random.uniform([5, 63], -1, 1)\n",
        "Y_test = tf.random.uniform([5, 5], -1, 1)\n",
        "predictions = model.predict(X_test, Y_test)\n",
        "print(predictions)\n"
      ],
      "metadata": {
        "id": "U8Q_ZiwSxbT6",
        "colab": {
          "base_uri": "https://localhost:8080/"
        },
        "outputId": "ac502d64-63e8-4eab-bfd8-d8c2ecd51af1"
      },
      "execution_count": null,
      "outputs": [
        {
          "output_type": "stream",
          "name": "stderr",
          "text": [
            "WARNING:tensorflow:Calling GradientTape.gradient on a persistent tape inside its context is significantly less efficient than calling it outside the context (it causes the gradient ops to be recorded on the tape, leading to increased CPU and memory usage). Only call GradientTape.gradient inside the context if you actually want to trace the gradient in order to compute higher order derivatives.\n",
            "WARNING:tensorflow:Calling GradientTape.gradient on a persistent tape inside its context is significantly less efficient than calling it outside the context (it causes the gradient ops to be recorded on the tape, leading to increased CPU and memory usage). Only call GradientTape.gradient inside the context if you actually want to trace the gradient in order to compute higher order derivatives.\n",
            "WARNING:tensorflow:Calling GradientTape.gradient on a persistent tape inside its context is significantly less efficient than calling it outside the context (it causes the gradient ops to be recorded on the tape, leading to increased CPU and memory usage). Only call GradientTape.gradient inside the context if you actually want to trace the gradient in order to compute higher order derivatives.\n",
            "WARNING:tensorflow:Calling GradientTape.gradient on a persistent tape inside its context is significantly less efficient than calling it outside the context (it causes the gradient ops to be recorded on the tape, leading to increased CPU and memory usage). Only call GradientTape.gradient inside the context if you actually want to trace the gradient in order to compute higher order derivatives.\n",
            "WARNING:tensorflow:Calling GradientTape.gradient on a persistent tape inside its context is significantly less efficient than calling it outside the context (it causes the gradient ops to be recorded on the tape, leading to increased CPU and memory usage). Only call GradientTape.gradient inside the context if you actually want to trace the gradient in order to compute higher order derivatives.\n",
            "WARNING:tensorflow:Calling GradientTape.gradient on a persistent tape inside its context is significantly less efficient than calling it outside the context (it causes the gradient ops to be recorded on the tape, leading to increased CPU and memory usage). Only call GradientTape.gradient inside the context if you actually want to trace the gradient in order to compute higher order derivatives.\n",
            "WARNING:tensorflow:Calling GradientTape.gradient on a persistent tape inside its context is significantly less efficient than calling it outside the context (it causes the gradient ops to be recorded on the tape, leading to increased CPU and memory usage). Only call GradientTape.gradient inside the context if you actually want to trace the gradient in order to compute higher order derivatives.\n",
            "WARNING:tensorflow:Calling GradientTape.gradient on a persistent tape inside its context is significantly less efficient than calling it outside the context (it causes the gradient ops to be recorded on the tape, leading to increased CPU and memory usage). Only call GradientTape.gradient inside the context if you actually want to trace the gradient in order to compute higher order derivatives.\n"
          ]
        }
      ]
    },
    {
      "cell_type": "code",
      "source": [
        "# prompt: give accuracy of u v and p predicted by using the formula of error/actual\n",
        "\n",
        "error_u = tf.reduce_mean(tf.abs(u_true_5000 - model.predict(X_5000, Y_5000)[:, 0:1])) / tf.reduce_mean(tf.abs(u_true_5000)) * 100\n",
        "error_v = tf.reduce_mean(tf.abs(v_true_5000 - model.predict(X_5000, Y_5000)[:, 1:2])) / tf.reduce_mean(tf.abs(v_true_5000)) * 100\n",
        "error_p = tf.reduce_mean(tf.abs(p_true_5000 - model.predict(X_5000, Y_5000)[:, 2:3])) / tf.reduce_mean(tf.abs(p_true_5000)) * 100\n",
        "\n",
        "print(f\"Reconstruction accuracy of u: {100.00-error_u:.2f}%\")\n",
        "print(f\"Reconstruction accuracy of v: {100.00-error_v:.2f}%\")\n",
        "print(f\"Reconstruction accuracy of p: {100.00-error_p:.2f}%\")\n"
      ],
      "metadata": {
        "colab": {
          "base_uri": "https://localhost:8080/"
        },
        "id": "tQb5yzxm66vA",
        "outputId": "ddfabd7e-6f5d-4fc2-fa52-8f43c10a0185"
      },
      "execution_count": null,
      "outputs": [
        {
          "output_type": "stream",
          "name": "stdout",
          "text": [
            "313/313 [==============================] - 1s 4ms/step\n",
            "313/313 [==============================] - 1s 2ms/step\n",
            "313/313 [==============================] - 1s 2ms/step\n",
            "Reconstruction accuracy of u: 68.37%\n",
            "Reconstruction accuracy of v: -0.72%\n",
            "Reconstruction accuracy of p: 60.40%\n"
          ]
        }
      ]
    },
    {
      "cell_type": "code",
      "source": [
        "from google.colab import drive\n",
        "drive.mount('/content/drive')"
      ],
      "metadata": {
        "colab": {
          "base_uri": "https://localhost:8080/"
        },
        "id": "_VrYqEbYL_TP",
        "outputId": "ccf0e768-877a-481b-ff00-06c0d8da2bf0"
      },
      "execution_count": null,
      "outputs": [
        {
          "output_type": "stream",
          "name": "stdout",
          "text": [
            "Mounted at /content/drive\n"
          ]
        }
      ]
    },
    {
      "cell_type": "code",
      "source": [
        "import tensorflow as tf\n",
        "import numpy as np\n",
        "from scipy.optimize import minimize\n",
        "from tensorflow.keras.layers import Input, Dense, Concatenate\n",
        "from tensorflow.keras.models import Model\n",
        "\n",
        "class PhysicsInformedNN:\n",
        "    def __init__(self, layers1, layers2):\n",
        "        self.layers1 = layers1  # Units of the main PINN\n",
        "        self.layers2 = layers2  # Units of the 2nd ANN for B and C\n",
        "        self.lambda_1 = 1.0\n",
        "        self.lambda_2 = 0.01\n",
        "        self.build_model()\n",
        "\n",
        "    def build_model(self):\n",
        "        inputs1 = Input(shape=(63,))  # Inputs for PINN\n",
        "        inputs2 = Input(shape=(5,))  # Inputs for 2nd ANN\n",
        "        x = inputs1\n",
        "        for i in range(len(self.layers1) - 2):\n",
        "            x = Dense(self.layers1[i+1], activation='tanh')(x)  # Dense layers of PINN\n",
        "        u_v_p = Dense(self.layers1[-1])(x)\n",
        "        u = u_v_p[:, 0:1]\n",
        "        v = u_v_p[:, 1:2]\n",
        "        p = u_v_p[:, 2:3]\n",
        "        y = Concatenate()([inputs2, u, v, p])\n",
        "        for i in range(len(self.layers2) - 2):\n",
        "            y = Dense(self.layers2[i+1], activation='tanh')(y)  # Dense layers of 2nd ANN\n",
        "        outputs2 = Dense(self.layers2[-1])(y)\n",
        "        self.model = Model(inputs=[inputs1, inputs2], outputs=outputs2)\n",
        "\n",
        "    def loss_function(self, inputs, u_true, v_true, p_true):\n",
        "        X, Y = inputs\n",
        "        with tf.GradientTape(persistent=True) as tape:\n",
        "            tape.watch(X)\n",
        "            predictions = self.model([X, Y])\n",
        "            u_pred = predictions[:, 0:1]\n",
        "            v_pred = predictions[:, 1:2]\n",
        "            p_pred = predictions[:, 2:3]\n",
        "\n",
        "            u_t = tape.gradient(u_pred, X)[:, 2:3]\n",
        "            u_x = tape.gradient(u_pred, X)[:, 0:1]\n",
        "            u_y = tape.gradient(u_pred, X)[:, 1:2]\n",
        "\n",
        "            v_t = tape.gradient(v_pred, X)[:, 2:3]\n",
        "            v_x = tape.gradient(v_pred, X)[:, 0:1]\n",
        "            v_y = tape.gradient(v_pred, X)[:, 1:2]\n",
        "\n",
        "            p_x = tape.gradient(p_pred, X)[:, 0:1]\n",
        "            p_y = tape.gradient(p_pred, X)[:, 1:2]\n",
        "\n",
        "        u_xx = tape.gradient(u_x, X)[:, 0:1]\n",
        "        u_yy = tape.gradient(u_y, X)[:, 1:2]\n",
        "        v_xx = tape.gradient(v_x, X)[:, 0:1]\n",
        "        v_yy = tape.gradient(v_y, X)[:, 1:2]\n",
        "\n",
        "        f = u_t + self.lambda_1 * (u_pred * u_x + v_pred * u_y) + p_x + self.lambda_2 * (u_xx + u_yy)\n",
        "        g = v_t + self.lambda_1 * (u_pred * v_x + v_pred * v_y) + p_y + self.lambda_2 * (v_xx + v_yy)\n",
        "        h = u_x + v_y\n",
        "\n",
        "        mse_loss = tf.reduce_mean(tf.square(u_true - u_pred)) + tf.reduce_mean(tf.square(v_true - v_pred)) + tf.reduce_mean(tf.square(p_true - p_pred))\n",
        "        phys_loss = tf.reduce_mean(tf.square(f)) + tf.reduce_mean(tf.square(g)) + tf.reduce_mean(tf.square(h))\n",
        "\n",
        "        total_loss = mse_loss + phys_loss\n",
        "\n",
        "        return total_loss\n",
        "\n",
        "    def get_weights(self):\n",
        "        weights = []\n",
        "        for layer in self.model.layers:\n",
        "            weights.extend(layer.get_weights())\n",
        "        return np.concatenate([w.flatten() for w in weights])\n",
        "\n",
        "    def set_weights(self, flat_weights):\n",
        "        new_weights = []\n",
        "        start = 0\n",
        "        for layer in self.model.layers:\n",
        "            shapes = [w.shape for w in layer.get_weights()]\n",
        "            sizes = [np.prod(shape) for shape in shapes]\n",
        "            end = start + sum(sizes)\n",
        "            new_weights.append([flat_weights[start:start+size].reshape(shape) for size, shape in zip(sizes, shapes)])\n",
        "            start = end\n",
        "        for layer, new_weight in zip(self.model.layers, new_weights):\n",
        "            layer.set_weights(new_weight)\n",
        "\n",
        "    def loss_and_grads(self, flat_weights, X, Y, u_true, v_true, p_true):\n",
        "        self.set_weights(flat_weights)\n",
        "        with tf.GradientTape() as tape:\n",
        "            loss = self.loss_function([X, Y], u_true, v_true, p_true)\n",
        "        grads = tape.gradient(loss, self.model.trainable_variables)\n",
        "        grads_flat = np.concatenate([tf.reshape(grad, [-1]).numpy() for grad in grads])\n",
        "        return loss.numpy(), grads_flat\n",
        "\n",
        "    def train_lbfgs(self, X, Y, u_true, v_true, p_true):\n",
        "        init_params = self.get_weights()\n",
        "        self.iteration = 0  # Initialize iteration counter\n",
        "\n",
        "        def callback(params):\n",
        "            self.iteration += 1\n",
        "            if self.iteration % 100 == 0:\n",
        "                self.set_weights(params)\n",
        "                loss = self.loss_function([X, Y], u_true, v_true, p_true)\n",
        "                print(f'Iteration {self.iteration}, Loss: {loss.numpy()}')\n",
        "\n",
        "        result = minimize(fun=self.loss_and_grads,\n",
        "                          x0=init_params,\n",
        "                          args=(X, Y, u_true, v_true, p_true),\n",
        "                          method='L-BFGS-B',\n",
        "                          jac=True,\n",
        "                          callback=callback,\n",
        "                          options={'maxiter': 10000, 'disp': True})\n",
        "        self.set_weights(result.x)\n",
        "\n",
        "    def predict(self, X, Y):\n",
        "        return self.model.predict([X, Y])\n",
        "\n",
        "layers1 = [63, 80, 80, 80, 80, 80, 80, 3]  # PINN layers\n",
        "layers2 = [8, 256, 128, 64, 3]  # ANN layers for B and C\n",
        "model = PhysicsInformedNN(layers1, layers2)\n",
        "X=tf.convert_to_tensor(df_X,dtype=tf.float32)\n",
        "Y=tf.convert_to_tensor(df_Y,dtype=tf.float32)\n",
        "u_true = tf.convert_to_tensor(combined_df['u'],dtype=tf.float32)\n",
        "v_true = tf.convert_to_tensor(combined_df['v'],dtype=tf.float32)\n",
        "p_true = tf.convert_to_tensor(combined_df['p'],dtype=tf.float32)\n",
        "#u_true = tf.random.uniform([240000, 1], -1, 1)\n",
        "#v_true = tf.random.uniform([240000, 1], -1, 1)\n",
        "#p_true = tf.random.uniform([240000, 1], -1, 1)\n",
        "\n",
        "# Get the number of data points\n",
        "\n",
        "# Generate a list of random indices\n",
        "random_indices = random.sample(range(354640), 10000)\n",
        "# Extract the data for the random indices\n",
        "X_5000 = tf.gather(X, random_indices)\n",
        "Y_5000 = tf.gather(Y, random_indices)\n",
        "u_true_5000 = tf.gather(u_true, random_indices)\n",
        "v_true_5000 = tf.gather(v_true, random_indices)\n",
        "p_true_5000 = tf.gather(p_true, random_indices)\n",
        "\n",
        "model.train_lbfgs(X_5000, Y_5000, u_true_5000, v_true_5000, p_true_5000)#Training command\n"
      ],
      "metadata": {
        "colab": {
          "base_uri": "https://localhost:8080/"
        },
        "id": "xjRUt1HqL_1t",
        "outputId": "515aa4f5-a9ba-4c21-9c68-f9c8a46ca8f7"
      },
      "execution_count": null,
      "outputs": [
        {
          "output_type": "stream",
          "name": "stderr",
          "text": [
            "WARNING:tensorflow:Calling GradientTape.gradient on a persistent tape inside its context is significantly less efficient than calling it outside the context (it causes the gradient ops to be recorded on the tape, leading to increased CPU and memory usage). Only call GradientTape.gradient inside the context if you actually want to trace the gradient in order to compute higher order derivatives.\n",
            "WARNING:tensorflow:Calling GradientTape.gradient on a persistent tape inside its context is significantly less efficient than calling it outside the context (it causes the gradient ops to be recorded on the tape, leading to increased CPU and memory usage). Only call GradientTape.gradient inside the context if you actually want to trace the gradient in order to compute higher order derivatives.\n",
            "WARNING:tensorflow:Calling GradientTape.gradient on a persistent tape inside its context is significantly less efficient than calling it outside the context (it causes the gradient ops to be recorded on the tape, leading to increased CPU and memory usage). Only call GradientTape.gradient inside the context if you actually want to trace the gradient in order to compute higher order derivatives.\n",
            "WARNING:tensorflow:Calling GradientTape.gradient on a persistent tape inside its context is significantly less efficient than calling it outside the context (it causes the gradient ops to be recorded on the tape, leading to increased CPU and memory usage). Only call GradientTape.gradient inside the context if you actually want to trace the gradient in order to compute higher order derivatives.\n",
            "WARNING:tensorflow:Calling GradientTape.gradient on a persistent tape inside its context is significantly less efficient than calling it outside the context (it causes the gradient ops to be recorded on the tape, leading to increased CPU and memory usage). Only call GradientTape.gradient inside the context if you actually want to trace the gradient in order to compute higher order derivatives.\n",
            "WARNING:tensorflow:Calling GradientTape.gradient on a persistent tape inside its context is significantly less efficient than calling it outside the context (it causes the gradient ops to be recorded on the tape, leading to increased CPU and memory usage). Only call GradientTape.gradient inside the context if you actually want to trace the gradient in order to compute higher order derivatives.\n",
            "WARNING:tensorflow:Calling GradientTape.gradient on a persistent tape inside its context is significantly less efficient than calling it outside the context (it causes the gradient ops to be recorded on the tape, leading to increased CPU and memory usage). Only call GradientTape.gradient inside the context if you actually want to trace the gradient in order to compute higher order derivatives.\n",
            "WARNING:tensorflow:Calling GradientTape.gradient on a persistent tape inside its context is significantly less efficient than calling it outside the context (it causes the gradient ops to be recorded on the tape, leading to increased CPU and memory usage). Only call GradientTape.gradient inside the context if you actually want to trace the gradient in order to compute higher order derivatives.\n"
          ]
        },
        {
          "output_type": "stream",
          "name": "stdout",
          "text": [
            "Iteration 100, Loss: 0.3023625612258911\n"
          ]
        }
      ]
    }
  ]
}